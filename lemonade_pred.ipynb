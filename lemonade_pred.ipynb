{
  "nbformat": 4,
  "nbformat_minor": 0,
  "metadata": {
    "colab": {
      "name": "lemonade_pred.ipynb",
      "provenance": [],
      "authorship_tag": "ABX9TyNFAYOee/JjPI7yOqEHSEA+",
      "include_colab_link": true
    },
    "kernelspec": {
      "name": "python3",
      "display_name": "Python 3"
    },
    "language_info": {
      "name": "python"
    }
  },
  "cells": [
    {
      "cell_type": "markdown",
      "metadata": {
        "id": "view-in-github",
        "colab_type": "text"
      },
      "source": [
        "<a href=\"https://colab.research.google.com/github/asterinwl/Tensorflow/blob/master/lemonade_pred.ipynb\" target=\"_parent\"><img src=\"https://colab.research.google.com/assets/colab-badge.svg\" alt=\"Open In Colab\"/></a>"
      ]
    },
    {
      "cell_type": "markdown",
      "metadata": {
        "id": "DHhIY_2TlYNV"
      },
      "source": [
        "# 1.과거의 데이터를 준비합니다."
      ]
    },
    {
      "cell_type": "code",
      "metadata": {
        "id": "4d9XIUrFldyw"
      },
      "source": [
        "import pandas as pd"
      ],
      "execution_count": 1,
      "outputs": []
    },
    {
      "cell_type": "code",
      "metadata": {
        "colab": {
          "base_uri": "https://localhost:8080/",
          "height": 204
        },
        "id": "sFRZwZJKkn7D",
        "outputId": "d51fa901-17f2-4c8a-afda-760c81f9d0df"
      },
      "source": [
        "레모네이드=pd.read_csv('lemonade.csv')\n",
        "레모네이드.head()"
      ],
      "execution_count": 2,
      "outputs": [
        {
          "output_type": "execute_result",
          "data": {
            "text/html": [
              "<div>\n",
              "<style scoped>\n",
              "    .dataframe tbody tr th:only-of-type {\n",
              "        vertical-align: middle;\n",
              "    }\n",
              "\n",
              "    .dataframe tbody tr th {\n",
              "        vertical-align: top;\n",
              "    }\n",
              "\n",
              "    .dataframe thead th {\n",
              "        text-align: right;\n",
              "    }\n",
              "</style>\n",
              "<table border=\"1\" class=\"dataframe\">\n",
              "  <thead>\n",
              "    <tr style=\"text-align: right;\">\n",
              "      <th></th>\n",
              "      <th>온도</th>\n",
              "      <th>판매량</th>\n",
              "    </tr>\n",
              "  </thead>\n",
              "  <tbody>\n",
              "    <tr>\n",
              "      <th>0</th>\n",
              "      <td>20</td>\n",
              "      <td>40</td>\n",
              "    </tr>\n",
              "    <tr>\n",
              "      <th>1</th>\n",
              "      <td>21</td>\n",
              "      <td>42</td>\n",
              "    </tr>\n",
              "    <tr>\n",
              "      <th>2</th>\n",
              "      <td>22</td>\n",
              "      <td>44</td>\n",
              "    </tr>\n",
              "    <tr>\n",
              "      <th>3</th>\n",
              "      <td>23</td>\n",
              "      <td>46</td>\n",
              "    </tr>\n",
              "    <tr>\n",
              "      <th>4</th>\n",
              "      <td>24</td>\n",
              "      <td>48</td>\n",
              "    </tr>\n",
              "  </tbody>\n",
              "</table>\n",
              "</div>"
            ],
            "text/plain": [
              "   온도  판매량\n",
              "0  20   40\n",
              "1  21   42\n",
              "2  22   44\n",
              "3  23   46\n",
              "4  24   48"
            ]
          },
          "metadata": {
            "tags": []
          },
          "execution_count": 2
        }
      ]
    },
    {
      "cell_type": "code",
      "metadata": {
        "colab": {
          "base_uri": "https://localhost:8080/"
        },
        "id": "0OAtdIEAup9q",
        "outputId": "2fa62fd5-18e1-46ce-dbae-74b487dda2ab"
      },
      "source": [
        "독립=레모네이드[['온도']]\n",
        "종속=레모네이드[['판매량']]\n",
        "print(독립.shape,종속.shape)"
      ],
      "execution_count": 3,
      "outputs": [
        {
          "output_type": "stream",
          "text": [
            "(6, 1) (6, 1)\n"
          ],
          "name": "stdout"
        }
      ]
    },
    {
      "cell_type": "markdown",
      "metadata": {
        "id": "bIPzWBm3llKr"
      },
      "source": [
        "# 2.모델의 구조를 만듭니다."
      ]
    },
    {
      "cell_type": "code",
      "metadata": {
        "id": "yoiTDAGLmy-G"
      },
      "source": [
        "import tensorflow as tf"
      ],
      "execution_count": 4,
      "outputs": []
    },
    {
      "cell_type": "code",
      "metadata": {
        "id": "dH7qxyhylnih"
      },
      "source": [
        "X=tf.keras.layers.Input(shape=[1])\n",
        "Y=tf.keras.layers.Dense(1)(X)\n",
        "model=tf.keras.models.Model(X,Y)\n",
        "model.compile(loss='mse')"
      ],
      "execution_count": 5,
      "outputs": []
    },
    {
      "cell_type": "markdown",
      "metadata": {
        "id": "nOZSx8bvnRz9"
      },
      "source": [
        "숫자 '1'이 상당히 중요하다."
      ]
    },
    {
      "cell_type": "markdown",
      "metadata": {
        "id": "cUfuIQrcmFC0"
      },
      "source": [
        "# 3.데이터로 모델을 학습(FIT)합니다."
      ]
    },
    {
      "cell_type": "code",
      "metadata": {
        "colab": {
          "base_uri": "https://localhost:8080/"
        },
        "id": "P5Z2kfpLl_0U",
        "outputId": "5032b213-486c-45f9-f651-e93508438bb6"
      },
      "source": [
        "model.fit(독립,종속,epochs=10)"
      ],
      "execution_count": 6,
      "outputs": [
        {
          "output_type": "stream",
          "text": [
            "Epoch 1/10\n",
            "1/1 [==============================] - 0s 355ms/step - loss: 733.9753\n",
            "Epoch 2/10\n",
            "1/1 [==============================] - 0s 5ms/step - loss: 729.9438\n",
            "Epoch 3/10\n",
            "1/1 [==============================] - 0s 3ms/step - loss: 727.0297\n",
            "Epoch 4/10\n",
            "1/1 [==============================] - 0s 6ms/step - loss: 724.5960\n",
            "Epoch 5/10\n",
            "1/1 [==============================] - 0s 6ms/step - loss: 722.4402\n",
            "Epoch 6/10\n",
            "1/1 [==============================] - 0s 6ms/step - loss: 720.4685\n",
            "Epoch 7/10\n",
            "1/1 [==============================] - 0s 7ms/step - loss: 718.6284\n",
            "Epoch 8/10\n",
            "1/1 [==============================] - 0s 7ms/step - loss: 716.8874\n",
            "Epoch 9/10\n",
            "1/1 [==============================] - 0s 7ms/step - loss: 715.2234\n",
            "Epoch 10/10\n",
            "1/1 [==============================] - 0s 4ms/step - loss: 713.6216\n"
          ],
          "name": "stdout"
        },
        {
          "output_type": "execute_result",
          "data": {
            "text/plain": [
              "<tensorflow.python.keras.callbacks.History at 0x7fa835c84690>"
            ]
          },
          "metadata": {
            "tags": []
          },
          "execution_count": 6
        }
      ]
    },
    {
      "cell_type": "markdown",
      "metadata": {
        "id": "TqWFVj0_nc-J"
      },
      "source": [
        "Epoch 994/1000 는 1000번 중 994번이라는 것을 의미한다.\n",
        "\n",
        "0s 6ms/step - 는 수행시간을 의미한다.\n",
        " \n",
        "loss: 2765.0898 눈 (예측-결과)의 제곱을 의미한다. loss가 0으로 줄어드는 것이 매우 중요하다. = 오류가 적다는 의미이다."
      ]
    },
    {
      "cell_type": "code",
      "metadata": {
        "colab": {
          "base_uri": "https://localhost:8080/"
        },
        "id": "bXvI2zLivJoB",
        "outputId": "039b85fb-7dd1-4b1d-b522-779e71749071"
      },
      "source": [
        "model.fit(독립,종속,epochs=10000, verbose=0)"
      ],
      "execution_count": 7,
      "outputs": [
        {
          "output_type": "execute_result",
          "data": {
            "text/plain": [
              "<tensorflow.python.keras.callbacks.History at 0x7fa82f9c2d50>"
            ]
          },
          "metadata": {
            "tags": []
          },
          "execution_count": 7
        }
      ]
    },
    {
      "cell_type": "markdown",
      "metadata": {
        "id": "tMQVimChmPiv"
      },
      "source": [
        "# 4.모델을 이용합니다."
      ]
    },
    {
      "cell_type": "code",
      "metadata": {
        "colab": {
          "base_uri": "https://localhost:8080/"
        },
        "id": "s7Uy5QBAmReU",
        "outputId": "6b53592a-2723-4a20-821e-c163ba13548a"
      },
      "source": [
        "print(\"Predictions: \",model.predict([[15]]))"
      ],
      "execution_count": 8,
      "outputs": [
        {
          "output_type": "stream",
          "text": [
            "Predictions:  [[30.01637]]\n"
          ],
          "name": "stdout"
        }
      ]
    }
  ]
}