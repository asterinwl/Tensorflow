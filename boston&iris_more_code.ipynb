{
  "nbformat": 4,
  "nbformat_minor": 0,
  "metadata": {
    "colab": {
      "name": "boston&iris_more_code.ipynb",
      "provenance": [],
      "authorship_tag": "ABX9TyO4ay/UvsuWbf7EwGLBI5TT",
      "include_colab_link": true
    },
    "kernelspec": {
      "name": "python3",
      "display_name": "Python 3"
    },
    "language_info": {
      "name": "python"
    }
  },
  "cells": [
    {
      "cell_type": "markdown",
      "metadata": {
        "id": "view-in-github",
        "colab_type": "text"
      },
      "source": [
        "<a href=\"https://colab.research.google.com/github/asterinwl/Tensorflow/blob/master/boston%26iris_more_code.ipynb\" target=\"_parent\"><img src=\"https://colab.research.google.com/assets/colab-badge.svg\" alt=\"Open In Colab\"/></a>"
      ]
    },
    {
      "cell_type": "markdown",
      "metadata": {
        "id": "D1_87NqmHzqp"
      },
      "source": [
        "# **보스턴 집값**"
      ]
    },
    {
      "cell_type": "markdown",
      "metadata": {
        "id": "36xJG47Lwoad"
      },
      "source": [
        " ## 1.과거의 데이터를 준비합니다"
      ]
    },
    {
      "cell_type": "code",
      "metadata": {
        "id": "sa8xFEG4wK2J"
      },
      "source": [
        "import pandas as pd"
      ],
      "execution_count": null,
      "outputs": []
    },
    {
      "cell_type": "code",
      "metadata": {
        "colab": {
          "base_uri": "https://localhost:8080/",
          "height": 202
        },
        "id": "FYL48H4Hw8Po",
        "outputId": "961babd7-21ff-4f84-e4e7-10561c13e1c0"
      },
      "source": [
        "보스턴=pd.read_csv('boston.csv')\n",
        "보스턴.head()"
      ],
      "execution_count": null,
      "outputs": [
        {
          "output_type": "execute_result",
          "data": {
            "text/html": [
              "<div>\n",
              "<style scoped>\n",
              "    .dataframe tbody tr th:only-of-type {\n",
              "        vertical-align: middle;\n",
              "    }\n",
              "\n",
              "    .dataframe tbody tr th {\n",
              "        vertical-align: top;\n",
              "    }\n",
              "\n",
              "    .dataframe thead th {\n",
              "        text-align: right;\n",
              "    }\n",
              "</style>\n",
              "<table border=\"1\" class=\"dataframe\">\n",
              "  <thead>\n",
              "    <tr style=\"text-align: right;\">\n",
              "      <th></th>\n",
              "      <th>crim</th>\n",
              "      <th>zn</th>\n",
              "      <th>indus</th>\n",
              "      <th>chas</th>\n",
              "      <th>nox</th>\n",
              "      <th>rm</th>\n",
              "      <th>age</th>\n",
              "      <th>dis</th>\n",
              "      <th>rad</th>\n",
              "      <th>tax</th>\n",
              "      <th>ptratio</th>\n",
              "      <th>b</th>\n",
              "      <th>lstat</th>\n",
              "      <th>medv</th>\n",
              "    </tr>\n",
              "  </thead>\n",
              "  <tbody>\n",
              "    <tr>\n",
              "      <th>0</th>\n",
              "      <td>0.00632</td>\n",
              "      <td>18.0</td>\n",
              "      <td>2.31</td>\n",
              "      <td>0</td>\n",
              "      <td>0.538</td>\n",
              "      <td>6.575</td>\n",
              "      <td>65.2</td>\n",
              "      <td>4.0900</td>\n",
              "      <td>1</td>\n",
              "      <td>296</td>\n",
              "      <td>15.3</td>\n",
              "      <td>396.90</td>\n",
              "      <td>4.98</td>\n",
              "      <td>24.0</td>\n",
              "    </tr>\n",
              "    <tr>\n",
              "      <th>1</th>\n",
              "      <td>0.02731</td>\n",
              "      <td>0.0</td>\n",
              "      <td>7.07</td>\n",
              "      <td>0</td>\n",
              "      <td>0.469</td>\n",
              "      <td>6.421</td>\n",
              "      <td>78.9</td>\n",
              "      <td>4.9671</td>\n",
              "      <td>2</td>\n",
              "      <td>242</td>\n",
              "      <td>17.8</td>\n",
              "      <td>396.90</td>\n",
              "      <td>9.14</td>\n",
              "      <td>21.6</td>\n",
              "    </tr>\n",
              "    <tr>\n",
              "      <th>2</th>\n",
              "      <td>0.02729</td>\n",
              "      <td>0.0</td>\n",
              "      <td>7.07</td>\n",
              "      <td>0</td>\n",
              "      <td>0.469</td>\n",
              "      <td>7.185</td>\n",
              "      <td>61.1</td>\n",
              "      <td>4.9671</td>\n",
              "      <td>2</td>\n",
              "      <td>242</td>\n",
              "      <td>17.8</td>\n",
              "      <td>392.83</td>\n",
              "      <td>4.03</td>\n",
              "      <td>34.7</td>\n",
              "    </tr>\n",
              "    <tr>\n",
              "      <th>3</th>\n",
              "      <td>0.03237</td>\n",
              "      <td>0.0</td>\n",
              "      <td>2.18</td>\n",
              "      <td>0</td>\n",
              "      <td>0.458</td>\n",
              "      <td>6.998</td>\n",
              "      <td>45.8</td>\n",
              "      <td>6.0622</td>\n",
              "      <td>3</td>\n",
              "      <td>222</td>\n",
              "      <td>18.7</td>\n",
              "      <td>394.63</td>\n",
              "      <td>2.94</td>\n",
              "      <td>33.4</td>\n",
              "    </tr>\n",
              "    <tr>\n",
              "      <th>4</th>\n",
              "      <td>0.06905</td>\n",
              "      <td>0.0</td>\n",
              "      <td>2.18</td>\n",
              "      <td>0</td>\n",
              "      <td>0.458</td>\n",
              "      <td>7.147</td>\n",
              "      <td>54.2</td>\n",
              "      <td>6.0622</td>\n",
              "      <td>3</td>\n",
              "      <td>222</td>\n",
              "      <td>18.7</td>\n",
              "      <td>396.90</td>\n",
              "      <td>5.33</td>\n",
              "      <td>36.2</td>\n",
              "    </tr>\n",
              "  </tbody>\n",
              "</table>\n",
              "</div>"
            ],
            "text/plain": [
              "      crim    zn  indus  chas    nox  ...  tax  ptratio       b  lstat  medv\n",
              "0  0.00632  18.0   2.31     0  0.538  ...  296     15.3  396.90   4.98  24.0\n",
              "1  0.02731   0.0   7.07     0  0.469  ...  242     17.8  396.90   9.14  21.6\n",
              "2  0.02729   0.0   7.07     0  0.469  ...  242     17.8  392.83   4.03  34.7\n",
              "3  0.03237   0.0   2.18     0  0.458  ...  222     18.7  394.63   2.94  33.4\n",
              "4  0.06905   0.0   2.18     0  0.458  ...  222     18.7  396.90   5.33  36.2\n",
              "\n",
              "[5 rows x 14 columns]"
            ]
          },
          "metadata": {
            "tags": []
          },
          "execution_count": 2
        }
      ]
    },
    {
      "cell_type": "code",
      "metadata": {
        "colab": {
          "base_uri": "https://localhost:8080/"
        },
        "id": "RTNY6BhYxFLo",
        "outputId": "0c80fd8f-0090-40fb-f883-1b2ea5a58b68"
      },
      "source": [
        "독립=보스턴[['crim','zn','indus','chas','nox','rm','age','dis','rad','tax','ptratio','b','lstat']]\n",
        "종속=보스턴[['medv']]\n",
        "print(독립.shape,종속.shape)"
      ],
      "execution_count": null,
      "outputs": [
        {
          "output_type": "stream",
          "text": [
            "(506, 13) (506, 1)\n"
          ],
          "name": "stdout"
        }
      ]
    },
    {
      "cell_type": "markdown",
      "metadata": {
        "id": "ub6_P2lgws3Y"
      },
      "source": [
        "# 2.모델의 구조를 만듭니다"
      ]
    },
    {
      "cell_type": "code",
      "metadata": {
        "id": "yASGxI05xgQd"
      },
      "source": [
        "import tensorflow as tf"
      ],
      "execution_count": null,
      "outputs": []
    },
    {
      "cell_type": "code",
      "metadata": {
        "id": "l7AptXI3xmbv"
      },
      "source": [
        "X=tf.keras.layers.Input(shape=[13])\n",
        "H=tf.keras.layers.Dense(8,activation='swish')(X)\n",
        "H=tf.keras.layers.Dense(8,activation='swish')(H)\n",
        "H=tf.keras.layers.Dense(8,activation='swish')(H)\n",
        "Y=tf.keras.layers.Dense(1)(H)\n",
        "model=tf.keras.models.Model(X,Y)\n",
        "model.compile(loss='mse')"
      ],
      "execution_count": null,
      "outputs": []
    },
    {
      "cell_type": "markdown",
      "metadata": {
        "id": "qv7ei9bsHgG4"
      },
      "source": [
        "Hidden을 써야지 더 좋은 결과값을 구할 수 있다."
      ]
    },
    {
      "cell_type": "markdown",
      "metadata": {
        "id": "ZiAD4EDLyqf1"
      },
      "source": [
        "독립변수는 13개고 종속변수는 1개이므로 X는 shape가 13,Y는 Dense가 1이다."
      ]
    },
    {
      "cell_type": "code",
      "metadata": {
        "colab": {
          "base_uri": "https://localhost:8080/"
        },
        "id": "Vqd6HvHrHF0z",
        "outputId": "f5ad52f6-3364-4235-d911-4f72d436c868"
      },
      "source": [
        "model.summary()"
      ],
      "execution_count": null,
      "outputs": [
        {
          "output_type": "stream",
          "text": [
            "Model: \"model\"\n",
            "_________________________________________________________________\n",
            "Layer (type)                 Output Shape              Param #   \n",
            "=================================================================\n",
            "input_1 (InputLayer)         [(None, 13)]              0         \n",
            "_________________________________________________________________\n",
            "dense (Dense)                (None, 8)                 112       \n",
            "_________________________________________________________________\n",
            "dense_1 (Dense)              (None, 8)                 72        \n",
            "_________________________________________________________________\n",
            "dense_2 (Dense)              (None, 8)                 72        \n",
            "_________________________________________________________________\n",
            "dense_3 (Dense)              (None, 1)                 9         \n",
            "=================================================================\n",
            "Total params: 265\n",
            "Trainable params: 265\n",
            "Non-trainable params: 0\n",
            "_________________________________________________________________\n"
          ],
          "name": "stdout"
        }
      ]
    },
    {
      "cell_type": "markdown",
      "metadata": {
        "id": "1m55pzzJxrkJ"
      },
      "source": [
        "# 3.데이터로 모델을 학습(FIT)합니다."
      ]
    },
    {
      "cell_type": "code",
      "metadata": {
        "colab": {
          "base_uri": "https://localhost:8080/"
        },
        "id": "j91d4X2oxvlq",
        "outputId": "a18b0443-7c9f-45f7-fb5b-36aea67b9bae"
      },
      "source": [
        "model.fit(독립,종속,epochs=10)"
      ],
      "execution_count": null,
      "outputs": [
        {
          "output_type": "stream",
          "text": [
            "Epoch 1/10\n",
            "16/16 [==============================] - 1s 1ms/step - loss: 384.1540\n",
            "Epoch 2/10\n",
            "16/16 [==============================] - 0s 1ms/step - loss: 223.1074\n",
            "Epoch 3/10\n",
            "16/16 [==============================] - 0s 1ms/step - loss: 109.0524\n",
            "Epoch 4/10\n",
            "16/16 [==============================] - 0s 1ms/step - loss: 84.9218\n",
            "Epoch 5/10\n",
            "16/16 [==============================] - 0s 1ms/step - loss: 82.0997\n",
            "Epoch 6/10\n",
            "16/16 [==============================] - 0s 1ms/step - loss: 79.3527\n",
            "Epoch 7/10\n",
            "16/16 [==============================] - 0s 1ms/step - loss: 77.3093\n",
            "Epoch 8/10\n",
            "16/16 [==============================] - 0s 1ms/step - loss: 75.6235\n",
            "Epoch 9/10\n",
            "16/16 [==============================] - 0s 1ms/step - loss: 74.8314\n",
            "Epoch 10/10\n",
            "16/16 [==============================] - 0s 1ms/step - loss: 72.6995\n"
          ],
          "name": "stdout"
        },
        {
          "output_type": "execute_result",
          "data": {
            "text/plain": [
              "<tensorflow.python.keras.callbacks.History at 0x7f5b9f523290>"
            ]
          },
          "metadata": {
            "tags": []
          },
          "execution_count": 7
        }
      ]
    },
    {
      "cell_type": "code",
      "metadata": {
        "colab": {
          "base_uri": "https://localhost:8080/"
        },
        "id": "OcfNUB-Py-f7",
        "outputId": "c64ea04c-cc45-445c-b577-bb463f4af2c0"
      },
      "source": [
        "model.fit(독립,종속,epochs=1000, verbose=0)"
      ],
      "execution_count": null,
      "outputs": [
        {
          "output_type": "execute_result",
          "data": {
            "text/plain": [
              "<tensorflow.python.keras.callbacks.History at 0x7f5b9eaa6950>"
            ]
          },
          "metadata": {
            "tags": []
          },
          "execution_count": 8
        }
      ]
    },
    {
      "cell_type": "markdown",
      "metadata": {
        "id": "IyGZaLB8zJbz"
      },
      "source": [
        "verbose=0은 결과값을 보지 않겠다는 의미이다."
      ]
    },
    {
      "cell_type": "markdown",
      "metadata": {
        "id": "r7wTjbWtx2Gl"
      },
      "source": [
        "# 4.모델을 이용합니다."
      ]
    },
    {
      "cell_type": "code",
      "metadata": {
        "colab": {
          "base_uri": "https://localhost:8080/"
        },
        "id": "RqqD_-rXx6TQ",
        "outputId": "3b868b85-ff6a-4535-cb70-0e40dd799057"
      },
      "source": [
        "print(\"Predictions: \",model.predict(독립[0:5]))"
      ],
      "execution_count": null,
      "outputs": [
        {
          "output_type": "stream",
          "text": [
            "Predictions:  [[34.42092 ]\n",
            " [24.13861 ]\n",
            " [33.15735 ]\n",
            " [36.141506]\n",
            " [30.770338]]\n"
          ],
          "name": "stdout"
        }
      ]
    },
    {
      "cell_type": "markdown",
      "metadata": {
        "id": "7oqeOVYJ6gYA"
      },
      "source": [
        "1행부터 5행까지의 medv의 값을 추측해보았다."
      ]
    },
    {
      "cell_type": "code",
      "metadata": {
        "colab": {
          "base_uri": "https://localhost:8080/",
          "height": 202
        },
        "id": "UkPbXZXqzWqA",
        "outputId": "5d12f0ad-abae-436d-8a6e-dd49ecdbac4f"
      },
      "source": [
        "종속[0:5]"
      ],
      "execution_count": null,
      "outputs": [
        {
          "output_type": "execute_result",
          "data": {
            "text/html": [
              "<div>\n",
              "<style scoped>\n",
              "    .dataframe tbody tr th:only-of-type {\n",
              "        vertical-align: middle;\n",
              "    }\n",
              "\n",
              "    .dataframe tbody tr th {\n",
              "        vertical-align: top;\n",
              "    }\n",
              "\n",
              "    .dataframe thead th {\n",
              "        text-align: right;\n",
              "    }\n",
              "</style>\n",
              "<table border=\"1\" class=\"dataframe\">\n",
              "  <thead>\n",
              "    <tr style=\"text-align: right;\">\n",
              "      <th></th>\n",
              "      <th>medv</th>\n",
              "    </tr>\n",
              "  </thead>\n",
              "  <tbody>\n",
              "    <tr>\n",
              "      <th>0</th>\n",
              "      <td>24.0</td>\n",
              "    </tr>\n",
              "    <tr>\n",
              "      <th>1</th>\n",
              "      <td>21.6</td>\n",
              "    </tr>\n",
              "    <tr>\n",
              "      <th>2</th>\n",
              "      <td>34.7</td>\n",
              "    </tr>\n",
              "    <tr>\n",
              "      <th>3</th>\n",
              "      <td>33.4</td>\n",
              "    </tr>\n",
              "    <tr>\n",
              "      <th>4</th>\n",
              "      <td>36.2</td>\n",
              "    </tr>\n",
              "  </tbody>\n",
              "</table>\n",
              "</div>"
            ],
            "text/plain": [
              "   medv\n",
              "0  24.0\n",
              "1  21.6\n",
              "2  34.7\n",
              "3  33.4\n",
              "4  36.2"
            ]
          },
          "metadata": {
            "tags": []
          },
          "execution_count": 10
        }
      ]
    },
    {
      "cell_type": "markdown",
      "metadata": {
        "id": "PJ7-bN_76mYX"
      },
      "source": [
        "실제 1행부터 5행까지의 medv의 값이다. 차이가 존재함을 알 수 있다."
      ]
    },
    {
      "cell_type": "markdown",
      "metadata": {
        "id": "CvnxwEnO6wNZ"
      },
      "source": [
        "# 5.모델의 수식 확인"
      ]
    },
    {
      "cell_type": "code",
      "metadata": {
        "colab": {
          "base_uri": "https://localhost:8080/"
        },
        "id": "kqegabpUMWlm",
        "outputId": "3dee1e93-3848-42a6-a4de-ece448ebd81d"
      },
      "source": [
        "model.get_weights()"
      ],
      "execution_count": null,
      "outputs": [
        {
          "output_type": "execute_result",
          "data": {
            "text/plain": [
              "[array([[ 0.13443147,  0.09368461, -1.3426118 , -0.48922008, -0.7122905 ,\n",
              "         -0.33264363,  0.06799767,  0.35277888],\n",
              "        [ 0.09111848, -0.02616287,  0.25219336, -0.4339781 ,  0.10044947,\n",
              "          0.20569164,  0.19607258, -0.42219767],\n",
              "        [ 0.50925016,  0.40927696,  0.2562453 ,  0.3875904 ,  0.7803589 ,\n",
              "          0.03974652,  0.14868455,  0.26462504],\n",
              "        [-0.08364642,  2.1217506 ,  2.327612  ,  0.48680514, -1.2510738 ,\n",
              "         -0.28259915, -1.0496683 ,  0.08822957],\n",
              "        [ 0.255692  , -0.21820566, -0.05825402, -0.13180938, -0.05332886,\n",
              "          0.49046916,  0.12249324,  0.11983208],\n",
              "        [-0.455497  ,  0.71959335,  2.312286  ,  0.28519726, -2.09539   ,\n",
              "         -0.1171892 ,  0.1250802 , -0.5487464 ],\n",
              "        [ 0.35302714,  0.02437923,  0.22355674, -0.18263069,  0.13287258,\n",
              "          0.28644252,  0.20525908, -0.22780155],\n",
              "        [-0.18009463, -0.4237345 , -0.4046592 ,  0.14087123,  1.1467487 ,\n",
              "         -0.34872603, -0.7566475 ,  0.00806966],\n",
              "        [ 0.29708153, -0.3423033 ,  0.40109527,  0.40942818, -0.6142359 ,\n",
              "         -0.52943045,  0.09765765, -0.29916993],\n",
              "        [-0.4724827 ,  0.04736324, -0.05973541, -0.40542692,  0.02095904,\n",
              "         -0.202571  ,  0.09974352,  0.0220001 ],\n",
              "        [-0.37963703, -0.422642  , -0.576188  , -0.3523442 ,  0.9082713 ,\n",
              "         -0.40895283,  0.19850291, -0.06749856],\n",
              "        [ 0.14437975,  0.03305565,  0.31754822, -0.5126145 ,  0.03124523,\n",
              "         -0.45215118, -0.25458267, -0.33189455],\n",
              "        [-0.2064314 , -2.0952587 , -1.132189  , -0.09588566,  0.679818  ,\n",
              "          0.30798906, -0.789754  , -0.20862319]], dtype=float32),\n",
              " array([ 0.00996869,  0.2823003 ,  0.55738354,  0.        , -0.07340924,\n",
              "         0.        ,  0.1614982 , -0.07016065], dtype=float32),\n",
              " array([[-0.05116296, -0.4456112 ,  0.20842177,  0.3809691 ,  1.3014666 ,\n",
              "         -1.3496059 , -1.3836052 ,  0.70758283],\n",
              "        [-0.43509254,  0.04639913,  0.09721509,  0.74616694, -0.49927723,\n",
              "         -0.01581604,  0.29841962,  0.08443192],\n",
              "        [-1.4962159 , -0.01119637, -0.48375538,  0.15275662,  0.3952088 ,\n",
              "          0.43445605,  0.06617264,  0.11366317],\n",
              "        [ 0.53372043, -0.2163041 ,  0.02590263, -0.25735256, -0.57487226,\n",
              "          0.5652414 ,  0.37623048,  0.32157767],\n",
              "        [-0.09092706, -0.05215067, -0.40329713, -0.60603833, -0.47726294,\n",
              "         -0.40036413,  0.11734298, -0.53333175],\n",
              "        [-0.2617152 ,  0.5536738 ,  0.13389707,  0.413194  , -0.31091738,\n",
              "          0.44148785,  0.48533362,  0.18591076],\n",
              "        [ 0.29905686,  0.01146355,  0.25544545, -0.8422409 , -0.00359972,\n",
              "         -0.15314236,  0.80028176, -0.01210473],\n",
              "        [ 0.78258425, -0.05921885, -0.22941133, -0.59624064,  0.08157677,\n",
              "          0.27326798, -0.7899746 ,  0.15931706]], dtype=float32),\n",
              " array([-0.190641  ,  0.5444244 , -0.22319177,  0.20371245, -0.29839075,\n",
              "         0.52004725,  1.1108184 , -0.20525144], dtype=float32),\n",
              " array([[ 1.37333229e-01, -6.48187160e-01, -3.39529365e-01,\n",
              "         -3.03590685e-01,  1.07118890e-01, -4.53771770e-01,\n",
              "         -6.73352554e-02, -2.11259532e+00],\n",
              "        [ 2.91197628e-01, -2.37963271e+00,  2.73520350e-01,\n",
              "         -1.79890513e+00, -2.24105382e+00, -2.15261817e+00,\n",
              "         -2.19280863e+00, -1.65844512e+00],\n",
              "        [ 2.98890293e-01,  3.32972318e-01,  5.42287588e-01,\n",
              "          2.72257328e-01, -3.43191564e-01,  3.39359313e-01,\n",
              "          1.89815894e-01, -6.52585864e-01],\n",
              "        [ 6.18311048e-01, -2.45315298e-01,  5.23025036e-01,\n",
              "          1.15271556e+00,  8.04703653e-01, -1.40218154e-01,\n",
              "         -4.53836381e-01,  1.07689106e+00],\n",
              "        [ 9.85745013e-01, -7.31339157e-01, -7.05160856e-01,\n",
              "          6.47637963e-01,  3.34241092e-01, -1.89536953e+00,\n",
              "         -2.64656216e-01,  2.74125755e-01],\n",
              "        [-1.17158926e+00,  2.69065171e-01,  8.07784870e-02,\n",
              "          3.24380845e-01,  7.93866664e-02,  2.52724558e-01,\n",
              "          1.43624917e-01,  5.45373201e-01],\n",
              "        [ 1.01590656e-01,  3.33386123e-01, -5.83160400e-01,\n",
              "          3.94911389e-04,  3.05663347e-01,  1.39438674e-01,\n",
              "         -2.07494259e-01, -3.24821532e-01],\n",
              "        [ 1.06182313e-02,  4.72755171e-02,  5.32563806e-01,\n",
              "         -2.64187765e+00, -1.66860199e+00, -8.07338161e-04,\n",
              "          2.93911964e-01, -2.38483214e+00]], dtype=float32),\n",
              " array([-0.39818314,  1.0468483 , -0.20602515,  0.6801637 ,  0.6031454 ,\n",
              "         0.9607768 ,  0.44860107,  0.4465978 ], dtype=float32),\n",
              " array([[-0.48316333],\n",
              "        [ 0.8504304 ],\n",
              "        [ 1.5249811 ],\n",
              "        [ 0.31533355],\n",
              "        [ 0.11543742],\n",
              "        [ 1.100377  ],\n",
              "        [-3.1128778 ],\n",
              "        [ 0.58615077]], dtype=float32),\n",
              " array([0.63495743], dtype=float32)]"
            ]
          },
          "metadata": {
            "tags": []
          },
          "execution_count": 11
        }
      ]
    },
    {
      "cell_type": "code",
      "metadata": {
        "id": "UUsvMN47Odwn"
      },
      "source": [
        ""
      ],
      "execution_count": null,
      "outputs": []
    },
    {
      "cell_type": "code",
      "metadata": {
        "id": "bXxQTG1ROdrX"
      },
      "source": [
        ""
      ],
      "execution_count": null,
      "outputs": []
    },
    {
      "cell_type": "code",
      "metadata": {
        "id": "WAHdQCvHOdj8"
      },
      "source": [
        ""
      ],
      "execution_count": null,
      "outputs": []
    },
    {
      "cell_type": "markdown",
      "metadata": {
        "id": "a6PT5Io8ORBu"
      },
      "source": [
        "# 다른 코드로 Try Again"
      ]
    },
    {
      "cell_type": "markdown",
      "metadata": {
        "id": "Yn5tsWpdN_v8"
      },
      "source": [
        "# 중간에 더 많은 코드를 집어넣는 것이 더 좋은 값을 만든다"
      ]
    },
    {
      "cell_type": "code",
      "metadata": {
        "id": "HtMVNZAGM7sD"
      },
      "source": [
        "X=tf.keras.layers.Input(shape=[13])\n",
        "H=tf.keras.layers.Dense(8)(X)\n",
        "H=tf.keras.layers.BatchNormalization()(H)\n",
        "H=tf.keras.layers.Dense(8,activation='swish')(X)\n",
        "\n",
        "H=tf.keras.layers.Dense(8)(H)\n",
        "H=tf.keras.layers.BatchNormalization()(H)\n",
        "H=tf.keras.layers.Dense(8,activation='swish')(H)\n",
        "\n",
        "H=tf.keras.layers.Dense(8)(H)\n",
        "H=tf.keras.layers.BatchNormalization()(H)\n",
        "H=tf.keras.layers.Dense(8,activation='swish')(H)\n",
        "\n",
        "Y=tf.keras.layers.Dense(1)(H)\n",
        "model=tf.keras.models.Model(X,Y)\n",
        "model.compile(loss='mse')"
      ],
      "execution_count": null,
      "outputs": []
    },
    {
      "cell_type": "code",
      "metadata": {
        "colab": {
          "base_uri": "https://localhost:8080/"
        },
        "id": "6oRcrpA5N-If",
        "outputId": "81332789-7df9-4a61-9b44-6f0bc60c1e74"
      },
      "source": [
        "model.summary()"
      ],
      "execution_count": null,
      "outputs": [
        {
          "output_type": "stream",
          "text": [
            "Model: \"model_1\"\n",
            "_________________________________________________________________\n",
            "Layer (type)                 Output Shape              Param #   \n",
            "=================================================================\n",
            "input_2 (InputLayer)         [(None, 13)]              0         \n",
            "_________________________________________________________________\n",
            "dense_5 (Dense)              (None, 8)                 112       \n",
            "_________________________________________________________________\n",
            "dense_6 (Dense)              (None, 8)                 72        \n",
            "_________________________________________________________________\n",
            "batch_normalization_1 (Batch (None, 8)                 32        \n",
            "_________________________________________________________________\n",
            "dense_7 (Dense)              (None, 8)                 72        \n",
            "_________________________________________________________________\n",
            "dense_8 (Dense)              (None, 8)                 72        \n",
            "_________________________________________________________________\n",
            "batch_normalization_2 (Batch (None, 8)                 32        \n",
            "_________________________________________________________________\n",
            "dense_9 (Dense)              (None, 8)                 72        \n",
            "_________________________________________________________________\n",
            "dense_10 (Dense)             (None, 1)                 9         \n",
            "=================================================================\n",
            "Total params: 473\n",
            "Trainable params: 441\n",
            "Non-trainable params: 32\n",
            "_________________________________________________________________\n"
          ],
          "name": "stdout"
        }
      ]
    },
    {
      "cell_type": "markdown",
      "metadata": {
        "id": "_6hrV_ZIN-Ii"
      },
      "source": [
        "# 3.데이터로 모델을 학습(FIT)합니다."
      ]
    },
    {
      "cell_type": "code",
      "metadata": {
        "colab": {
          "base_uri": "https://localhost:8080/"
        },
        "id": "9uD5_v38N-Ii",
        "outputId": "e06cc12f-ee2f-4db0-8298-244f9bc91abb"
      },
      "source": [
        "model.fit(독립,종속,epochs=10)"
      ],
      "execution_count": null,
      "outputs": [
        {
          "output_type": "stream",
          "text": [
            "Epoch 1/10\n",
            "16/16 [==============================] - 1s 2ms/step - loss: 570.9482\n",
            "Epoch 2/10\n",
            "16/16 [==============================] - 0s 2ms/step - loss: 538.7736\n",
            "Epoch 3/10\n",
            "16/16 [==============================] - 0s 2ms/step - loss: 515.5694\n",
            "Epoch 4/10\n",
            "16/16 [==============================] - 0s 2ms/step - loss: 496.7398\n",
            "Epoch 5/10\n",
            "16/16 [==============================] - 0s 2ms/step - loss: 479.5005\n",
            "Epoch 6/10\n",
            "16/16 [==============================] - 0s 2ms/step - loss: 463.8770\n",
            "Epoch 7/10\n",
            "16/16 [==============================] - 0s 2ms/step - loss: 446.7076\n",
            "Epoch 8/10\n",
            "16/16 [==============================] - 0s 2ms/step - loss: 430.1195\n",
            "Epoch 9/10\n",
            "16/16 [==============================] - 0s 2ms/step - loss: 412.2052\n",
            "Epoch 10/10\n",
            "16/16 [==============================] - 0s 2ms/step - loss: 392.9471\n"
          ],
          "name": "stdout"
        },
        {
          "output_type": "execute_result",
          "data": {
            "text/plain": [
              "<tensorflow.python.keras.callbacks.History at 0x7f5b9ccc59d0>"
            ]
          },
          "metadata": {
            "tags": []
          },
          "execution_count": 14
        }
      ]
    },
    {
      "cell_type": "code",
      "metadata": {
        "colab": {
          "base_uri": "https://localhost:8080/"
        },
        "id": "Dtrp1g0JN-Ii",
        "outputId": "39d20586-2be6-4184-fd69-e92e00e82f7c"
      },
      "source": [
        "model.fit(독립,종속,epochs=1000, verbose=0)"
      ],
      "execution_count": null,
      "outputs": [
        {
          "output_type": "execute_result",
          "data": {
            "text/plain": [
              "<tensorflow.python.keras.callbacks.History at 0x7f5b9b947350>"
            ]
          },
          "metadata": {
            "tags": []
          },
          "execution_count": 15
        }
      ]
    },
    {
      "cell_type": "markdown",
      "metadata": {
        "id": "6yfaCyxLN-Ij"
      },
      "source": [
        "verbose=0은 결과값을 보지 않겠다는 의미이다."
      ]
    },
    {
      "cell_type": "markdown",
      "metadata": {
        "id": "R3LjrCYLN-Ij"
      },
      "source": [
        "# 4.모델을 이용합니다."
      ]
    },
    {
      "cell_type": "code",
      "metadata": {
        "colab": {
          "base_uri": "https://localhost:8080/"
        },
        "id": "MR0Pp8mbN-Ij",
        "outputId": "060f74b1-a69f-4619-aa3e-56dc3aa9d275"
      },
      "source": [
        "print(\"Predictions: \",model.predict(독립[0:5]))"
      ],
      "execution_count": null,
      "outputs": [
        {
          "output_type": "stream",
          "text": [
            "Predictions:  [[24.949722]\n",
            " [22.214926]\n",
            " [29.56082 ]\n",
            " [33.518044]\n",
            " [30.386007]]\n"
          ],
          "name": "stdout"
        }
      ]
    },
    {
      "cell_type": "markdown",
      "metadata": {
        "id": "EZIw11iEN-Ij"
      },
      "source": [
        "1행부터 5행까지의 medv의 값을 추측해보았다."
      ]
    },
    {
      "cell_type": "code",
      "metadata": {
        "colab": {
          "base_uri": "https://localhost:8080/",
          "height": 202
        },
        "id": "LZoVeb6FN-Ij",
        "outputId": "6f186e09-323b-433a-cee4-9a7380ec98d9"
      },
      "source": [
        "종속[0:5]"
      ],
      "execution_count": null,
      "outputs": [
        {
          "output_type": "execute_result",
          "data": {
            "text/html": [
              "<div>\n",
              "<style scoped>\n",
              "    .dataframe tbody tr th:only-of-type {\n",
              "        vertical-align: middle;\n",
              "    }\n",
              "\n",
              "    .dataframe tbody tr th {\n",
              "        vertical-align: top;\n",
              "    }\n",
              "\n",
              "    .dataframe thead th {\n",
              "        text-align: right;\n",
              "    }\n",
              "</style>\n",
              "<table border=\"1\" class=\"dataframe\">\n",
              "  <thead>\n",
              "    <tr style=\"text-align: right;\">\n",
              "      <th></th>\n",
              "      <th>medv</th>\n",
              "    </tr>\n",
              "  </thead>\n",
              "  <tbody>\n",
              "    <tr>\n",
              "      <th>0</th>\n",
              "      <td>24.0</td>\n",
              "    </tr>\n",
              "    <tr>\n",
              "      <th>1</th>\n",
              "      <td>21.6</td>\n",
              "    </tr>\n",
              "    <tr>\n",
              "      <th>2</th>\n",
              "      <td>34.7</td>\n",
              "    </tr>\n",
              "    <tr>\n",
              "      <th>3</th>\n",
              "      <td>33.4</td>\n",
              "    </tr>\n",
              "    <tr>\n",
              "      <th>4</th>\n",
              "      <td>36.2</td>\n",
              "    </tr>\n",
              "  </tbody>\n",
              "</table>\n",
              "</div>"
            ],
            "text/plain": [
              "   medv\n",
              "0  24.0\n",
              "1  21.6\n",
              "2  34.7\n",
              "3  33.4\n",
              "4  36.2"
            ]
          },
          "metadata": {
            "tags": []
          },
          "execution_count": 17
        }
      ]
    },
    {
      "cell_type": "markdown",
      "metadata": {
        "id": "2iuiZEu7N-Ij"
      },
      "source": [
        "실제 1행부터 5행까지의 medv의 값이다. 차이가 존재함을 알 수 있다."
      ]
    },
    {
      "cell_type": "markdown",
      "metadata": {
        "id": "6Wy7DgfrN-Ik"
      },
      "source": [
        "# 5.모델의 수식 확인"
      ]
    },
    {
      "cell_type": "code",
      "metadata": {
        "colab": {
          "base_uri": "https://localhost:8080/"
        },
        "id": "j_9-q_XTN-Ik",
        "outputId": "ed2f1292-01e4-4c60-ed86-39fc8ef2801a"
      },
      "source": [
        "model.get_weights()"
      ],
      "execution_count": null,
      "outputs": [
        {
          "output_type": "execute_result",
          "data": {
            "text/plain": [
              "[array([[ 7.85566345e-02,  1.16317468e-02,  9.83302951e-01,\n",
              "         -6.78936660e-01,  2.51083493e-01, -1.34550095e-01,\n",
              "         -5.40286675e-02,  4.31193650e-01],\n",
              "        [-6.73064515e-02,  3.47444713e-01, -3.89087617e-01,\n",
              "          6.29719496e-02, -4.24987197e-01, -3.90835047e-01,\n",
              "         -1.20998815e-01,  2.52294183e-01],\n",
              "        [-1.18829638e-01, -5.75847216e-02,  2.24432582e-03,\n",
              "         -2.53916293e-01, -2.90443242e-01,  8.10512304e-02,\n",
              "          4.20250833e-01,  2.06425846e-01],\n",
              "        [ 8.86089802e-01, -1.26013374e+00,  1.11203837e+00,\n",
              "          8.79014194e-01, -1.56280994e-02,  1.36238158e-01,\n",
              "          1.45125139e+00,  5.46212673e-01],\n",
              "        [-1.07381463e+00, -9.57083583e-01, -4.20594364e-01,\n",
              "         -1.09412706e+00,  3.09064031e-01, -1.58057176e-02,\n",
              "         -7.90973127e-01,  1.21240842e+00],\n",
              "        [ 2.06198168e+00,  3.83259320e+00,  1.62763262e+00,\n",
              "          2.23666787e+00, -4.15738761e-01,  5.21562874e-01,\n",
              "         -2.83145815e-01, -1.75076947e-01],\n",
              "        [-5.03953695e-02,  6.10988997e-02, -1.81119993e-01,\n",
              "          5.86975813e-02,  4.39675331e-01,  3.26151878e-01,\n",
              "          3.38600785e-01,  1.05194181e-01],\n",
              "        [-9.07727957e-01, -2.79239237e-01,  1.57541797e-01,\n",
              "         -2.65869260e-01, -3.75439882e-01, -2.31280372e-01,\n",
              "         -2.37931347e+00,  6.18795991e-01],\n",
              "        [ 4.50413287e-01, -1.10862710e-01,  7.26556301e-01,\n",
              "         -1.38670713e-01, -3.73997927e-01,  1.47791831e-02,\n",
              "          6.59330711e-02, -2.60297090e-01],\n",
              "        [-3.15759215e-03,  3.84083748e-01, -4.56985176e-01,\n",
              "         -8.35663378e-02, -4.92156416e-01, -1.14051268e-01,\n",
              "          2.35566813e-02,  2.68640637e-01],\n",
              "        [-2.52691358e-01, -5.17249882e-01, -1.30650476e-01,\n",
              "         -8.71363878e-01,  3.69011164e-01,  4.51540828e-01,\n",
              "         -5.01107216e-01, -2.65995532e-01],\n",
              "        [ 1.41532794e-02, -3.02397043e-01,  3.67178440e-01,\n",
              "          1.06567852e-01, -3.18833590e-02, -3.31862807e-01,\n",
              "         -4.45314795e-02, -2.37248853e-01],\n",
              "        [-7.31360316e-01,  1.66671440e-01,  1.15180798e-01,\n",
              "         -6.63951933e-01, -4.46235925e-01, -3.55607331e-01,\n",
              "         -1.14307415e+00,  4.55569386e-01]], dtype=float32),\n",
              " array([ 2.3704210e-02,  5.3653073e-01,  6.6752084e-02,  6.1524063e-02,\n",
              "         1.0489686e-21, -3.4094154e-07,  1.1089006e-01, -2.4239844e-01],\n",
              "       dtype=float32),\n",
              " array([[-0.19565551, -0.7445427 ,  0.49604625,  0.2008348 ,  0.01374098,\n",
              "          0.47448903, -1.1173958 , -0.21935773],\n",
              "        [ 0.22600266, -0.52279896, -0.36078203, -0.09609424,  0.4978544 ,\n",
              "          0.06193754, -0.19801977, -0.01892563],\n",
              "        [-0.37580463, -0.47209835, -0.3000637 , -0.4480339 , -0.58955055,\n",
              "          0.63440686,  0.27160087, -0.46154135],\n",
              "        [-0.5438243 , -0.42425978,  0.4629385 , -0.1547943 ,  0.42352507,\n",
              "         -0.06079419, -0.50376904,  0.54397357],\n",
              "        [-0.03209817, -0.5355583 ,  0.09159708, -0.49622166, -0.41453457,\n",
              "          0.05491853, -0.2437219 , -0.36928242],\n",
              "        [-0.53547287,  0.37478393,  0.20812792,  0.4420234 , -0.3114982 ,\n",
              "         -0.00989679, -0.0501486 ,  0.20012295],\n",
              "        [-0.03785791,  0.3893387 , -0.233972  ,  0.5715377 ,  0.73047   ,\n",
              "         -0.348692  , -0.2905287 , -0.24691835],\n",
              "        [-0.39041993,  0.5509311 , -0.7193896 ,  0.06951199, -0.58973354,\n",
              "         -0.316674  ,  0.35706475,  0.26194006]], dtype=float32),\n",
              " array([-0.03849333, -0.11601138,  0.01906623,  0.09487984, -0.03970627,\n",
              "         0.01518683,  0.15021925,  0.01734132], dtype=float32),\n",
              " array([1.0740199 , 1.182122  , 0.9019029 , 1.2886931 , 1.0304941 ,\n",
              "        0.92784107, 0.9604011 , 1.0358211 ], dtype=float32),\n",
              " array([-0.26118693, -0.05957314, -0.06337795, -0.29009464, -0.31447688,\n",
              "         0.07418005, -0.35036585,  0.01488033], dtype=float32),\n",
              " array([ -8.151122, -20.780945, -56.74421 ,  -6.888527,   9.896233,\n",
              "         -4.702559,  -2.014958,   9.259817], dtype=float32),\n",
              " array([  71.63803 ,   54.87379 , 4655.19    ,   40.472958,  186.94585 ,\n",
              "         389.6502  ,   68.42022 ,  196.64021 ], dtype=float32),\n",
              " array([[ 0.14082476,  0.0733759 ,  0.28404683,  0.5182605 , -0.5801945 ,\n",
              "          0.0267655 ,  0.68180513, -0.03713606],\n",
              "        [-0.8449447 ,  0.36721873,  0.43779653,  0.10000585, -0.13635907,\n",
              "          0.32681704, -0.03740614, -0.38518447],\n",
              "        [ 0.6021761 , -0.08077706,  0.23932227,  0.26118267,  0.55495596,\n",
              "          0.26207435,  0.26251328,  0.10534432],\n",
              "        [ 0.07756912,  0.3996978 ,  0.01947017, -0.43632516,  0.00793777,\n",
              "          1.0876151 ,  0.01286708,  0.15288764],\n",
              "        [ 0.13298632, -0.14077215, -0.15757786, -0.13626574, -0.02269446,\n",
              "          0.7299916 ,  0.56951797,  0.2361701 ],\n",
              "        [ 0.39927128,  0.07316465,  0.16984451,  0.04768917,  0.5561994 ,\n",
              "         -0.38141793,  0.27322045, -0.00288211],\n",
              "        [ 0.05294277, -0.71336865, -0.6126448 , -0.7956165 , -0.12870812,\n",
              "          0.39035955,  0.02374216, -0.46277022],\n",
              "        [ 0.4617064 ,  0.47365105, -0.40404567,  0.4890692 , -0.35550532,\n",
              "         -0.19953987,  0.39528087, -0.1652829 ]], dtype=float32),\n",
              " array([-0.18066436,  0.03205305, -0.10229637,  0.47924727,  0.07127856,\n",
              "        -0.32897282, -0.16489533,  0.5246077 ], dtype=float32),\n",
              " array([[ 0.3341714 , -0.21543927, -0.03104032, -0.16189095, -0.18819758,\n",
              "         -0.4516967 , -0.6123036 , -0.5345728 ],\n",
              "        [-0.5055266 , -0.05332805,  0.26256022,  0.8979845 , -0.16736408,\n",
              "          0.14831227,  0.31277227, -0.55242205],\n",
              "        [-0.03632822, -0.26830503, -0.4535025 ,  0.01061836, -0.17981072,\n",
              "         -0.0943516 ,  0.3626679 ,  0.48534548],\n",
              "        [ 0.04935088, -0.5820821 , -0.5873073 , -0.18543087,  0.13063435,\n",
              "         -0.0106938 ,  0.28605938, -0.2821148 ],\n",
              "        [ 0.19424951, -0.6191144 , -0.04987262, -0.032507  ,  0.37404087,\n",
              "          0.07226552,  0.08786733, -0.3312894 ],\n",
              "        [ 0.20416707,  0.25741023,  0.40785018, -0.06959661,  0.7921929 ,\n",
              "         -0.14426333,  0.40154755,  0.65160173],\n",
              "        [-0.92110515, -0.4613086 , -0.3563351 , -0.03146399, -0.06144918,\n",
              "         -0.15459417, -0.4069153 ,  0.22465935],\n",
              "        [-0.07426255,  0.43448538,  0.01061837, -0.14877221, -0.14567317,\n",
              "          0.66557246, -0.09370009,  0.24560864]], dtype=float32),\n",
              " array([ 0.08192964, -0.08233089, -0.06269842, -0.01721453, -0.02669517,\n",
              "         0.04690162,  0.01110701,  0.17257077], dtype=float32),\n",
              " array([1.6025305, 1.7748057, 1.7121526, 1.6337609, 1.4240656, 1.4548233,\n",
              "        1.8771029, 1.7104632], dtype=float32),\n",
              " array([-0.06519604, -0.60092384, -0.48257214, -0.6639328 , -1.205167  ,\n",
              "         0.97898203, -0.53339595,  0.86779624], dtype=float32),\n",
              " array([ 0.08060544, -0.7394136 , -0.5075981 ,  0.05135813,  0.17315051,\n",
              "         0.3654493 ,  0.45814362, -0.04312047], dtype=float32),\n",
              " array([0.29694742, 0.7854715 , 0.4118978 , 0.18101631, 0.2864512 ,\n",
              "        0.08786646, 0.31280392, 0.4418985 ], dtype=float32),\n",
              " array([[-0.24152587, -0.87884367, -0.5129256 ,  0.11420269,  0.22954392,\n",
              "          0.84567785,  0.7859581 ,  0.2767639 ],\n",
              "        [ 0.16195986,  1.1412882 ,  0.9750848 ,  0.78841424, -1.1467726 ,\n",
              "          0.71730244, -1.1790414 ,  0.22681755],\n",
              "        [ 0.43075472,  0.5178585 ,  0.8393592 , -0.00587758, -1.3359828 ,\n",
              "          0.43507087, -0.9489481 ,  0.06184941],\n",
              "        [ 0.16940476,  0.33206442,  1.0169104 ,  0.78538865, -1.2881335 ,\n",
              "          0.19650605, -1.2169143 ,  0.5221485 ],\n",
              "        [-0.7352705 ,  0.47184774,  0.32402173,  0.42775714, -1.1674991 ,\n",
              "         -0.45148554, -0.74496543,  0.96673805],\n",
              "        [ 0.97733295,  0.8744401 ,  0.8617373 , -0.6040271 , -0.08399045,\n",
              "         -0.0957983 ,  0.24140947, -0.39879525],\n",
              "        [ 0.5898539 , -0.07630469,  1.0517046 ,  0.5421486 , -1.283773  ,\n",
              "         -0.7483761 , -0.89587414,  0.36973912],\n",
              "        [ 1.1671146 ,  1.1822042 ,  1.2553934 ,  0.11267474,  0.5017777 ,\n",
              "         -0.348402  , -0.44201156,  0.57944727]], dtype=float32),\n",
              " array([ 1.3280561 ,  1.0293623 ,  1.03846   , -0.36128852,  1.2865667 ,\n",
              "        -0.26255172,  1.0036519 , -0.49682346], dtype=float32),\n",
              " array([[ 0.9732992],\n",
              "        [ 0.8053417],\n",
              "        [ 1.2725953],\n",
              "        [-1.4797678],\n",
              "        [ 0.9560804],\n",
              "        [-1.8264942],\n",
              "        [ 1.452219 ],\n",
              "        [-1.9571657]], dtype=float32),\n",
              " array([1.3244177], dtype=float32)]"
            ]
          },
          "metadata": {
            "tags": []
          },
          "execution_count": 18
        }
      ]
    },
    {
      "cell_type": "markdown",
      "metadata": {
        "id": "UbkK7pwRIEp7"
      },
      "source": [
        "# **아이리스 품종**"
      ]
    },
    {
      "cell_type": "markdown",
      "metadata": {
        "id": "-qmHi0o2_XtM"
      },
      "source": [
        "# 1.과거의 데이터를 준비합니다"
      ]
    },
    {
      "cell_type": "code",
      "metadata": {
        "id": "sHgNsVXa_dZX"
      },
      "source": [
        "import pandas as pd"
      ],
      "execution_count": 19,
      "outputs": []
    },
    {
      "cell_type": "code",
      "metadata": {
        "colab": {
          "base_uri": "https://localhost:8080/",
          "height": 202
        },
        "id": "2Q591jQt_j3S",
        "outputId": "d9f2d45b-799b-4c76-cbf9-c7c8761879ba"
      },
      "source": [
        "아이리스=pd.read_csv('iris.csv')\n",
        "아이리스.head()"
      ],
      "execution_count": 20,
      "outputs": [
        {
          "output_type": "execute_result",
          "data": {
            "text/html": [
              "<div>\n",
              "<style scoped>\n",
              "    .dataframe tbody tr th:only-of-type {\n",
              "        vertical-align: middle;\n",
              "    }\n",
              "\n",
              "    .dataframe tbody tr th {\n",
              "        vertical-align: top;\n",
              "    }\n",
              "\n",
              "    .dataframe thead th {\n",
              "        text-align: right;\n",
              "    }\n",
              "</style>\n",
              "<table border=\"1\" class=\"dataframe\">\n",
              "  <thead>\n",
              "    <tr style=\"text-align: right;\">\n",
              "      <th></th>\n",
              "      <th>꽃잎길이</th>\n",
              "      <th>꽃잎폭</th>\n",
              "      <th>꽃받침길이</th>\n",
              "      <th>꽃받침폭</th>\n",
              "      <th>품종</th>\n",
              "    </tr>\n",
              "  </thead>\n",
              "  <tbody>\n",
              "    <tr>\n",
              "      <th>0</th>\n",
              "      <td>5.1</td>\n",
              "      <td>3.5</td>\n",
              "      <td>1.4</td>\n",
              "      <td>0.2</td>\n",
              "      <td>setosa</td>\n",
              "    </tr>\n",
              "    <tr>\n",
              "      <th>1</th>\n",
              "      <td>4.9</td>\n",
              "      <td>3.0</td>\n",
              "      <td>1.4</td>\n",
              "      <td>0.2</td>\n",
              "      <td>setosa</td>\n",
              "    </tr>\n",
              "    <tr>\n",
              "      <th>2</th>\n",
              "      <td>4.7</td>\n",
              "      <td>3.2</td>\n",
              "      <td>1.3</td>\n",
              "      <td>0.2</td>\n",
              "      <td>setosa</td>\n",
              "    </tr>\n",
              "    <tr>\n",
              "      <th>3</th>\n",
              "      <td>4.6</td>\n",
              "      <td>3.1</td>\n",
              "      <td>1.5</td>\n",
              "      <td>0.2</td>\n",
              "      <td>setosa</td>\n",
              "    </tr>\n",
              "    <tr>\n",
              "      <th>4</th>\n",
              "      <td>5.0</td>\n",
              "      <td>3.6</td>\n",
              "      <td>1.4</td>\n",
              "      <td>0.2</td>\n",
              "      <td>setosa</td>\n",
              "    </tr>\n",
              "  </tbody>\n",
              "</table>\n",
              "</div>"
            ],
            "text/plain": [
              "   꽃잎길이  꽃잎폭  꽃받침길이  꽃받침폭      품종\n",
              "0   5.1  3.5    1.4   0.2  setosa\n",
              "1   4.9  3.0    1.4   0.2  setosa\n",
              "2   4.7  3.2    1.3   0.2  setosa\n",
              "3   4.6  3.1    1.5   0.2  setosa\n",
              "4   5.0  3.6    1.4   0.2  setosa"
            ]
          },
          "metadata": {
            "tags": []
          },
          "execution_count": 20
        }
      ]
    },
    {
      "cell_type": "code",
      "metadata": {
        "colab": {
          "base_uri": "https://localhost:8080/",
          "height": 202
        },
        "id": "vAldScHDBuQG",
        "outputId": "345c7f2f-84d5-4b0d-973b-8558c1077aa7"
      },
      "source": [
        "아이리스=pd.get_dummies(아이리스)\n",
        "아이리스.head()"
      ],
      "execution_count": 21,
      "outputs": [
        {
          "output_type": "execute_result",
          "data": {
            "text/html": [
              "<div>\n",
              "<style scoped>\n",
              "    .dataframe tbody tr th:only-of-type {\n",
              "        vertical-align: middle;\n",
              "    }\n",
              "\n",
              "    .dataframe tbody tr th {\n",
              "        vertical-align: top;\n",
              "    }\n",
              "\n",
              "    .dataframe thead th {\n",
              "        text-align: right;\n",
              "    }\n",
              "</style>\n",
              "<table border=\"1\" class=\"dataframe\">\n",
              "  <thead>\n",
              "    <tr style=\"text-align: right;\">\n",
              "      <th></th>\n",
              "      <th>꽃잎길이</th>\n",
              "      <th>꽃잎폭</th>\n",
              "      <th>꽃받침길이</th>\n",
              "      <th>꽃받침폭</th>\n",
              "      <th>품종_setosa</th>\n",
              "      <th>품종_versicolor</th>\n",
              "      <th>품종_virginica</th>\n",
              "    </tr>\n",
              "  </thead>\n",
              "  <tbody>\n",
              "    <tr>\n",
              "      <th>0</th>\n",
              "      <td>5.1</td>\n",
              "      <td>3.5</td>\n",
              "      <td>1.4</td>\n",
              "      <td>0.2</td>\n",
              "      <td>1</td>\n",
              "      <td>0</td>\n",
              "      <td>0</td>\n",
              "    </tr>\n",
              "    <tr>\n",
              "      <th>1</th>\n",
              "      <td>4.9</td>\n",
              "      <td>3.0</td>\n",
              "      <td>1.4</td>\n",
              "      <td>0.2</td>\n",
              "      <td>1</td>\n",
              "      <td>0</td>\n",
              "      <td>0</td>\n",
              "    </tr>\n",
              "    <tr>\n",
              "      <th>2</th>\n",
              "      <td>4.7</td>\n",
              "      <td>3.2</td>\n",
              "      <td>1.3</td>\n",
              "      <td>0.2</td>\n",
              "      <td>1</td>\n",
              "      <td>0</td>\n",
              "      <td>0</td>\n",
              "    </tr>\n",
              "    <tr>\n",
              "      <th>3</th>\n",
              "      <td>4.6</td>\n",
              "      <td>3.1</td>\n",
              "      <td>1.5</td>\n",
              "      <td>0.2</td>\n",
              "      <td>1</td>\n",
              "      <td>0</td>\n",
              "      <td>0</td>\n",
              "    </tr>\n",
              "    <tr>\n",
              "      <th>4</th>\n",
              "      <td>5.0</td>\n",
              "      <td>3.6</td>\n",
              "      <td>1.4</td>\n",
              "      <td>0.2</td>\n",
              "      <td>1</td>\n",
              "      <td>0</td>\n",
              "      <td>0</td>\n",
              "    </tr>\n",
              "  </tbody>\n",
              "</table>\n",
              "</div>"
            ],
            "text/plain": [
              "   꽃잎길이  꽃잎폭  꽃받침길이  꽃받침폭  품종_setosa  품종_versicolor  품종_virginica\n",
              "0   5.1  3.5    1.4   0.2          1              0             0\n",
              "1   4.9  3.0    1.4   0.2          1              0             0\n",
              "2   4.7  3.2    1.3   0.2          1              0             0\n",
              "3   4.6  3.1    1.5   0.2          1              0             0\n",
              "4   5.0  3.6    1.4   0.2          1              0             0"
            ]
          },
          "metadata": {
            "tags": []
          },
          "execution_count": 21
        }
      ]
    },
    {
      "cell_type": "markdown",
      "metadata": {
        "id": "NfaSsFWCDq03"
      },
      "source": [
        "get_dummies는 원-핫 인코딩을 하는 방법이다."
      ]
    },
    {
      "cell_type": "markdown",
      "metadata": {
        "id": "nqsYX99FB1od"
      },
      "source": [
        "get_dummies를 통해서 품종을 컴퓨터가 알아서 3가지로 분류했다. 따라서 품종이 품종_setosa\t품종_versicolor\t품종_virginica로 나누어졌다."
      ]
    },
    {
      "cell_type": "code",
      "metadata": {
        "colab": {
          "base_uri": "https://localhost:8080/"
        },
        "id": "waee4Qru_j5h",
        "outputId": "60a830c7-2124-4ed6-956e-5fc7e7b23f1b"
      },
      "source": [
        "독립=아이리스[['꽃잎길이','꽃잎폭','꽃받침길이','꽃받침폭']]\n",
        "종속=아이리스[['품종_setosa','품종_versicolor','품종_virginica']]\n",
        "print(독립.shape,종속.shape)"
      ],
      "execution_count": 22,
      "outputs": [
        {
          "output_type": "stream",
          "text": [
            "(150, 4) (150, 3)\n"
          ],
          "name": "stdout"
        }
      ]
    },
    {
      "cell_type": "markdown",
      "metadata": {
        "id": "Fb9b21KxAU_0"
      },
      "source": [
        "# 2.모델의 구조를 만듭시다"
      ]
    },
    {
      "cell_type": "code",
      "metadata": {
        "id": "o7WDvCoWAkJJ"
      },
      "source": [
        "import tensorflow as tf"
      ],
      "execution_count": 23,
      "outputs": []
    },
    {
      "cell_type": "code",
      "metadata": {
        "id": "vgkM-moqAUIx"
      },
      "source": [
        "X=tf.keras.layers.Input(shape=[4])\n",
        "H=tf.keras.layers.Dense(8,activation='swish')(X)\n",
        "H=tf.keras.layers.Dense(8,activation='swish')(H)\n",
        "H=tf.keras.layers.Dense(8,activation='swish')(H)\n",
        "Y=tf.keras.layers.Dense(3,activation='softmax')(H)\n",
        "model=tf.keras.models.Model(X,Y)\n",
        "model.compile(loss='categorical_crossentropy',metrics='accuracy')"
      ],
      "execution_count": 24,
      "outputs": []
    },
    {
      "cell_type": "markdown",
      "metadata": {
        "id": "P8lgT_ShJRjI"
      },
      "source": [
        "Hidden을 사용하면 더 정확한 값을 알 수 있다."
      ]
    },
    {
      "cell_type": "markdown",
      "metadata": {
        "id": "PgfBGMypC0Vy"
      },
      "source": [
        "구하고자 하는 값이 무엇이냐에 따라 loss를 다르게 둘 수 있다. 분류는 `loss='categorical_crossentropy'` 회귀는 `loss='mse'`이다."
      ]
    },
    {
      "cell_type": "markdown",
      "metadata": {
        "id": "rLb9uv-uDSqS"
      },
      "source": [
        "분류는 회귀랑 다르게 `metrisc='accuracy'`를 통해 정확도를 구할 수 있다."
      ]
    },
    {
      "cell_type": "markdown",
      "metadata": {
        "id": "ji86j1bQDc1i"
      },
      "source": [
        "분류는 회귀보다 어렵다."
      ]
    },
    {
      "cell_type": "markdown",
      "metadata": {
        "id": "qhe5wzhrDJr8"
      },
      "source": [
        "종속변수는 4개이고 독립변수는 3개라서 shape=4이고 Dense는 3개이다."
      ]
    },
    {
      "cell_type": "markdown",
      "metadata": {
        "id": "lXZs1PlxApxe"
      },
      "source": [
        "# 3.데이터로 모델을 학습(FIT)합니다"
      ]
    },
    {
      "cell_type": "code",
      "metadata": {
        "colab": {
          "base_uri": "https://localhost:8080/"
        },
        "id": "7xdmBgDoArBD",
        "outputId": "327c0c9b-89c5-4e99-9c21-78a5c10af49a"
      },
      "source": [
        "model.fit(독립,종속,epochs=100)"
      ],
      "execution_count": 25,
      "outputs": [
        {
          "output_type": "stream",
          "text": [
            "Epoch 1/100\n",
            "5/5 [==============================] - 1s 3ms/step - loss: 1.4375 - accuracy: 0.2867\n",
            "Epoch 2/100\n",
            "5/5 [==============================] - 0s 2ms/step - loss: 1.3076 - accuracy: 0.3267\n",
            "Epoch 3/100\n",
            "5/5 [==============================] - 0s 2ms/step - loss: 1.2359 - accuracy: 0.3333\n",
            "Epoch 4/100\n",
            "5/5 [==============================] - 0s 3ms/step - loss: 1.1816 - accuracy: 0.3333\n",
            "Epoch 5/100\n",
            "5/5 [==============================] - 0s 3ms/step - loss: 1.1412 - accuracy: 0.3333\n",
            "Epoch 6/100\n",
            "5/5 [==============================] - 0s 3ms/step - loss: 1.1069 - accuracy: 0.3333\n",
            "Epoch 7/100\n",
            "5/5 [==============================] - 0s 2ms/step - loss: 1.0749 - accuracy: 0.3333\n",
            "Epoch 8/100\n",
            "5/5 [==============================] - 0s 2ms/step - loss: 1.0449 - accuracy: 0.3333\n",
            "Epoch 9/100\n",
            "5/5 [==============================] - 0s 3ms/step - loss: 1.0134 - accuracy: 0.3333\n",
            "Epoch 10/100\n",
            "5/5 [==============================] - 0s 2ms/step - loss: 0.9826 - accuracy: 0.3333\n",
            "Epoch 11/100\n",
            "5/5 [==============================] - 0s 3ms/step - loss: 0.9486 - accuracy: 0.3867\n",
            "Epoch 12/100\n",
            "5/5 [==============================] - 0s 3ms/step - loss: 0.9134 - accuracy: 0.5733\n",
            "Epoch 13/100\n",
            "5/5 [==============================] - 0s 3ms/step - loss: 0.8735 - accuracy: 0.6533\n",
            "Epoch 14/100\n",
            "5/5 [==============================] - 0s 3ms/step - loss: 0.8355 - accuracy: 0.6667\n",
            "Epoch 15/100\n",
            "5/5 [==============================] - 0s 3ms/step - loss: 0.7992 - accuracy: 0.6667\n",
            "Epoch 16/100\n",
            "5/5 [==============================] - 0s 3ms/step - loss: 0.7623 - accuracy: 0.6667\n",
            "Epoch 17/100\n",
            "5/5 [==============================] - 0s 3ms/step - loss: 0.7281 - accuracy: 0.6667\n",
            "Epoch 18/100\n",
            "5/5 [==============================] - 0s 4ms/step - loss: 0.6974 - accuracy: 0.6733\n",
            "Epoch 19/100\n",
            "5/5 [==============================] - 0s 3ms/step - loss: 0.6667 - accuracy: 0.6667\n",
            "Epoch 20/100\n",
            "5/5 [==============================] - 0s 3ms/step - loss: 0.6385 - accuracy: 0.6733\n",
            "Epoch 21/100\n",
            "5/5 [==============================] - 0s 5ms/step - loss: 0.6114 - accuracy: 0.6733\n",
            "Epoch 22/100\n",
            "5/5 [==============================] - 0s 3ms/step - loss: 0.5870 - accuracy: 0.6733\n",
            "Epoch 23/100\n",
            "5/5 [==============================] - 0s 3ms/step - loss: 0.5632 - accuracy: 0.6867\n",
            "Epoch 24/100\n",
            "5/5 [==============================] - 0s 3ms/step - loss: 0.5448 - accuracy: 0.6800\n",
            "Epoch 25/100\n",
            "5/5 [==============================] - 0s 3ms/step - loss: 0.5244 - accuracy: 0.6867\n",
            "Epoch 26/100\n",
            "5/5 [==============================] - 0s 3ms/step - loss: 0.5065 - accuracy: 0.7333\n",
            "Epoch 27/100\n",
            "5/5 [==============================] - 0s 3ms/step - loss: 0.4904 - accuracy: 0.7133\n",
            "Epoch 28/100\n",
            "5/5 [==============================] - 0s 4ms/step - loss: 0.4762 - accuracy: 0.7200\n",
            "Epoch 29/100\n",
            "5/5 [==============================] - 0s 4ms/step - loss: 0.4625 - accuracy: 0.7467\n",
            "Epoch 30/100\n",
            "5/5 [==============================] - 0s 3ms/step - loss: 0.4519 - accuracy: 0.7333\n",
            "Epoch 31/100\n",
            "5/5 [==============================] - 0s 3ms/step - loss: 0.4385 - accuracy: 0.7667\n",
            "Epoch 32/100\n",
            "5/5 [==============================] - 0s 3ms/step - loss: 0.4283 - accuracy: 0.8200\n",
            "Epoch 33/100\n",
            "5/5 [==============================] - 0s 3ms/step - loss: 0.4203 - accuracy: 0.7800\n",
            "Epoch 34/100\n",
            "5/5 [==============================] - 0s 3ms/step - loss: 0.4109 - accuracy: 0.8067\n",
            "Epoch 35/100\n",
            "5/5 [==============================] - 0s 2ms/step - loss: 0.4020 - accuracy: 0.8333\n",
            "Epoch 36/100\n",
            "5/5 [==============================] - 0s 2ms/step - loss: 0.3938 - accuracy: 0.8467\n",
            "Epoch 37/100\n",
            "5/5 [==============================] - 0s 4ms/step - loss: 0.3869 - accuracy: 0.8533\n",
            "Epoch 38/100\n",
            "5/5 [==============================] - 0s 3ms/step - loss: 0.3829 - accuracy: 0.8933\n",
            "Epoch 39/100\n",
            "5/5 [==============================] - 0s 3ms/step - loss: 0.3737 - accuracy: 0.8533\n",
            "Epoch 40/100\n",
            "5/5 [==============================] - 0s 3ms/step - loss: 0.3675 - accuracy: 0.8933\n",
            "Epoch 41/100\n",
            "5/5 [==============================] - 0s 4ms/step - loss: 0.3619 - accuracy: 0.8667\n",
            "Epoch 42/100\n",
            "5/5 [==============================] - 0s 4ms/step - loss: 0.3565 - accuracy: 0.9400\n",
            "Epoch 43/100\n",
            "5/5 [==============================] - 0s 3ms/step - loss: 0.3517 - accuracy: 0.8933\n",
            "Epoch 44/100\n",
            "5/5 [==============================] - 0s 3ms/step - loss: 0.3455 - accuracy: 0.9533\n",
            "Epoch 45/100\n",
            "5/5 [==============================] - 0s 2ms/step - loss: 0.3427 - accuracy: 0.8800\n",
            "Epoch 46/100\n",
            "5/5 [==============================] - 0s 3ms/step - loss: 0.3355 - accuracy: 0.9533\n",
            "Epoch 47/100\n",
            "5/5 [==============================] - 0s 3ms/step - loss: 0.3315 - accuracy: 0.9333\n",
            "Epoch 48/100\n",
            "5/5 [==============================] - 0s 3ms/step - loss: 0.3272 - accuracy: 0.9267\n",
            "Epoch 49/100\n",
            "5/5 [==============================] - 0s 3ms/step - loss: 0.3235 - accuracy: 0.9333\n",
            "Epoch 50/100\n",
            "5/5 [==============================] - 0s 3ms/step - loss: 0.3196 - accuracy: 0.9600\n",
            "Epoch 51/100\n",
            "5/5 [==============================] - 0s 4ms/step - loss: 0.3140 - accuracy: 0.9400\n",
            "Epoch 52/100\n",
            "5/5 [==============================] - 0s 3ms/step - loss: 0.3085 - accuracy: 0.9333\n",
            "Epoch 53/100\n",
            "5/5 [==============================] - 0s 4ms/step - loss: 0.3055 - accuracy: 0.9600\n",
            "Epoch 54/100\n",
            "5/5 [==============================] - 0s 3ms/step - loss: 0.2994 - accuracy: 0.9467\n",
            "Epoch 55/100\n",
            "5/5 [==============================] - 0s 2ms/step - loss: 0.2953 - accuracy: 0.9533\n",
            "Epoch 56/100\n",
            "5/5 [==============================] - 0s 4ms/step - loss: 0.2908 - accuracy: 0.9667\n",
            "Epoch 57/100\n",
            "5/5 [==============================] - 0s 3ms/step - loss: 0.2913 - accuracy: 0.9600\n",
            "Epoch 58/100\n",
            "5/5 [==============================] - 0s 3ms/step - loss: 0.2825 - accuracy: 0.9733\n",
            "Epoch 59/100\n",
            "5/5 [==============================] - 0s 4ms/step - loss: 0.2780 - accuracy: 0.9533\n",
            "Epoch 60/100\n",
            "5/5 [==============================] - 0s 2ms/step - loss: 0.2748 - accuracy: 0.9600\n",
            "Epoch 61/100\n",
            "5/5 [==============================] - 0s 2ms/step - loss: 0.2688 - accuracy: 0.9600\n",
            "Epoch 62/100\n",
            "5/5 [==============================] - 0s 3ms/step - loss: 0.2676 - accuracy: 0.9733\n",
            "Epoch 63/100\n",
            "5/5 [==============================] - 0s 3ms/step - loss: 0.2618 - accuracy: 0.9733\n",
            "Epoch 64/100\n",
            "5/5 [==============================] - 0s 3ms/step - loss: 0.2614 - accuracy: 0.9600\n",
            "Epoch 65/100\n",
            "5/5 [==============================] - 0s 4ms/step - loss: 0.2540 - accuracy: 0.9600\n",
            "Epoch 66/100\n",
            "5/5 [==============================] - 0s 3ms/step - loss: 0.2492 - accuracy: 0.9667\n",
            "Epoch 67/100\n",
            "5/5 [==============================] - 0s 3ms/step - loss: 0.2456 - accuracy: 0.9733\n",
            "Epoch 68/100\n",
            "5/5 [==============================] - 0s 3ms/step - loss: 0.2414 - accuracy: 0.9733\n",
            "Epoch 69/100\n",
            "5/5 [==============================] - 0s 3ms/step - loss: 0.2371 - accuracy: 0.9733\n",
            "Epoch 70/100\n",
            "5/5 [==============================] - 0s 3ms/step - loss: 0.2370 - accuracy: 0.9733\n",
            "Epoch 71/100\n",
            "5/5 [==============================] - 0s 3ms/step - loss: 0.2303 - accuracy: 0.9667\n",
            "Epoch 72/100\n",
            "5/5 [==============================] - 0s 3ms/step - loss: 0.2270 - accuracy: 0.9733\n",
            "Epoch 73/100\n",
            "5/5 [==============================] - 0s 5ms/step - loss: 0.2273 - accuracy: 0.9733\n",
            "Epoch 74/100\n",
            "5/5 [==============================] - 0s 5ms/step - loss: 0.2203 - accuracy: 0.9733\n",
            "Epoch 75/100\n",
            "5/5 [==============================] - 0s 3ms/step - loss: 0.2188 - accuracy: 0.9733\n",
            "Epoch 76/100\n",
            "5/5 [==============================] - 0s 5ms/step - loss: 0.2158 - accuracy: 0.9733\n",
            "Epoch 77/100\n",
            "5/5 [==============================] - 0s 3ms/step - loss: 0.2111 - accuracy: 0.9733\n",
            "Epoch 78/100\n",
            "5/5 [==============================] - 0s 2ms/step - loss: 0.2070 - accuracy: 0.9733\n",
            "Epoch 79/100\n",
            "5/5 [==============================] - 0s 3ms/step - loss: 0.2049 - accuracy: 0.9733\n",
            "Epoch 80/100\n",
            "5/5 [==============================] - 0s 3ms/step - loss: 0.2026 - accuracy: 0.9733\n",
            "Epoch 81/100\n",
            "5/5 [==============================] - 0s 4ms/step - loss: 0.1988 - accuracy: 0.9733\n",
            "Epoch 82/100\n",
            "5/5 [==============================] - 0s 3ms/step - loss: 0.1949 - accuracy: 0.9733\n",
            "Epoch 83/100\n",
            "5/5 [==============================] - 0s 5ms/step - loss: 0.1924 - accuracy: 0.9733\n",
            "Epoch 84/100\n",
            "5/5 [==============================] - 0s 2ms/step - loss: 0.1893 - accuracy: 0.9733\n",
            "Epoch 85/100\n",
            "5/5 [==============================] - 0s 3ms/step - loss: 0.1886 - accuracy: 0.9733\n",
            "Epoch 86/100\n",
            "5/5 [==============================] - 0s 3ms/step - loss: 0.1824 - accuracy: 0.9733\n",
            "Epoch 87/100\n",
            "5/5 [==============================] - 0s 3ms/step - loss: 0.1819 - accuracy: 0.9733\n",
            "Epoch 88/100\n",
            "5/5 [==============================] - 0s 3ms/step - loss: 0.1794 - accuracy: 0.9733\n",
            "Epoch 89/100\n",
            "5/5 [==============================] - 0s 5ms/step - loss: 0.1806 - accuracy: 0.9667\n",
            "Epoch 90/100\n",
            "5/5 [==============================] - 0s 3ms/step - loss: 0.1748 - accuracy: 0.9733\n",
            "Epoch 91/100\n",
            "5/5 [==============================] - 0s 3ms/step - loss: 0.1740 - accuracy: 0.9733\n",
            "Epoch 92/100\n",
            "5/5 [==============================] - 0s 3ms/step - loss: 0.1708 - accuracy: 0.9667\n",
            "Epoch 93/100\n",
            "5/5 [==============================] - 0s 2ms/step - loss: 0.1702 - accuracy: 0.9733\n",
            "Epoch 94/100\n",
            "5/5 [==============================] - 0s 3ms/step - loss: 0.1647 - accuracy: 0.9733\n",
            "Epoch 95/100\n",
            "5/5 [==============================] - 0s 4ms/step - loss: 0.1642 - accuracy: 0.9667\n",
            "Epoch 96/100\n",
            "5/5 [==============================] - 0s 3ms/step - loss: 0.1638 - accuracy: 0.9733\n",
            "Epoch 97/100\n",
            "5/5 [==============================] - 0s 3ms/step - loss: 0.1642 - accuracy: 0.9733\n",
            "Epoch 98/100\n",
            "5/5 [==============================] - 0s 3ms/step - loss: 0.1576 - accuracy: 0.9667\n",
            "Epoch 99/100\n",
            "5/5 [==============================] - 0s 4ms/step - loss: 0.1571 - accuracy: 0.9733\n",
            "Epoch 100/100\n",
            "5/5 [==============================] - 0s 3ms/step - loss: 0.1573 - accuracy: 0.9733\n"
          ],
          "name": "stdout"
        },
        {
          "output_type": "execute_result",
          "data": {
            "text/plain": [
              "<tensorflow.python.keras.callbacks.History at 0x7f5b9b8f1e10>"
            ]
          },
          "metadata": {
            "tags": []
          },
          "execution_count": 25
        }
      ]
    },
    {
      "cell_type": "markdown",
      "metadata": {
        "id": "bX6DoM3PAuXs"
      },
      "source": [
        "# 4.모델을 이용합니다"
      ]
    },
    {
      "cell_type": "code",
      "metadata": {
        "colab": {
          "base_uri": "https://localhost:8080/"
        },
        "id": "eIGDqIqtAwbD",
        "outputId": "65509d8a-69ce-41e6-d580-aeb0facaad66"
      },
      "source": [
        "print(model.predict(독립[0:5]))"
      ],
      "execution_count": 26,
      "outputs": [
        {
          "output_type": "stream",
          "text": [
            "[[9.9932718e-01 5.5094077e-08 6.7282910e-04]\n",
            " [9.9821883e-01 7.1735712e-07 1.7804264e-03]\n",
            " [9.9876380e-01 2.8791371e-07 1.2360221e-03]\n",
            " [9.9802554e-01 9.4210765e-07 1.9735789e-03]\n",
            " [9.9939871e-01 4.1786247e-08 6.0129096e-04]]\n"
          ],
          "name": "stdout"
        }
      ]
    },
    {
      "cell_type": "markdown",
      "metadata": {
        "id": "u9dmE0o7E45r"
      },
      "source": [
        "예상값으로 가장 높은 값을 가진 1번이 정답이다."
      ]
    },
    {
      "cell_type": "code",
      "metadata": {
        "colab": {
          "base_uri": "https://localhost:8080/"
        },
        "id": "Cs6K7J4FEru1",
        "outputId": "ef130fbd-00de-427c-cd60-903592a3be19"
      },
      "source": [
        "print([종속[0:5]])"
      ],
      "execution_count": 27,
      "outputs": [
        {
          "output_type": "stream",
          "text": [
            "[   품종_setosa  품종_versicolor  품종_virginica\n",
            "0          1              0             0\n",
            "1          1              0             0\n",
            "2          1              0             0\n",
            "3          1              0             0\n",
            "4          1              0             0]\n"
          ],
          "name": "stdout"
        }
      ]
    },
    {
      "cell_type": "markdown",
      "metadata": {
        "id": "H-MK-VlHE9gQ"
      },
      "source": [
        "실제값과 비교해본 결과 예상값이 정답이다."
      ]
    },
    {
      "cell_type": "code",
      "metadata": {
        "colab": {
          "base_uri": "https://localhost:8080/"
        },
        "id": "Ha40O9leEwjm",
        "outputId": "062f8b63-6c16-447c-a00d-c2bc9091cb8f"
      },
      "source": [
        "model.get_weights()"
      ],
      "execution_count": 28,
      "outputs": [
        {
          "output_type": "execute_result",
          "data": {
            "text/plain": [
              "[array([[ 0.13877858,  0.00898524,  0.07845198,  0.6746145 ,  0.2819284 ,\n",
              "         -0.47049698, -0.15996869,  0.4677969 ],\n",
              "        [ 0.8060351 , -0.45464605, -0.34601906, -0.2608131 ,  0.7525137 ,\n",
              "          0.46025646,  0.8039933 ,  0.35541627],\n",
              "        [-0.53018063, -0.1399483 ,  0.17296141,  0.29980654, -0.66751605,\n",
              "         -0.34551036,  0.03827936,  0.81431156],\n",
              "        [ 0.03302073,  0.14333083,  0.8275792 , -0.6743969 ,  0.4314418 ,\n",
              "          0.16813965, -0.59295434,  0.5496951 ]], dtype=float32),\n",
              " array([ 0.2704806 , -0.1375452 ,  0.06018865,  0.10523448,  0.1158841 ,\n",
              "         0.22492957,  0.13397056, -0.10062194], dtype=float32),\n",
              " array([[-0.6986734 ,  0.14472534, -0.01312357,  0.5476893 ,  0.04799527,\n",
              "          0.6479408 ,  0.31289843,  0.37413725],\n",
              "        [-0.3082285 , -0.5706263 , -0.4834642 , -0.7373366 ,  0.24723199,\n",
              "          0.17094436, -0.29834837, -0.10287318],\n",
              "        [ 0.5002236 , -0.36171117, -0.44534454, -0.58359474,  0.02707289,\n",
              "         -0.2621951 , -0.6537826 ,  0.14540999],\n",
              "        [-0.25467104,  0.35914725, -0.28650162,  0.31771263,  0.494559  ,\n",
              "          0.29887792,  0.09806522, -0.00214457],\n",
              "        [-0.2536535 ,  0.8538453 , -0.05383622,  0.57253516, -0.3249464 ,\n",
              "          0.30720913, -0.28122103, -0.04398137],\n",
              "        [ 0.25425848, -0.03872309, -0.05702322, -0.3049177 , -0.6813746 ,\n",
              "         -0.45957455, -0.36654192,  0.02709801],\n",
              "        [-0.4155095 ,  0.39208508, -0.12054458,  0.45756853,  0.70368886,\n",
              "         -0.1827297 , -0.16978787,  0.08345002],\n",
              "        [ 0.6745101 , -0.20645595,  0.31327194, -0.09221644,  0.21920341,\n",
              "         -0.5068176 ,  0.19492333, -0.35362008]], dtype=float32),\n",
              " array([-0.09673657,  0.16234544,  0.16127217,  0.2535538 ,  0.04287249,\n",
              "         0.15527713,  0.19494246,  0.12688698], dtype=float32),\n",
              " array([[-0.6074922 , -0.4015376 , -0.68370205, -0.5416005 , -0.774273  ,\n",
              "          0.7481559 , -0.40908006,  0.6629055 ],\n",
              "        [ 0.15838848,  0.12382007,  0.3186872 ,  0.70921725,  0.39058694,\n",
              "         -0.05378719,  0.5143217 , -0.30806664],\n",
              "        [ 0.07645349, -0.65043443, -0.9594946 , -0.62965345, -0.6055347 ,\n",
              "          0.22135712,  0.3685953 , -0.29865822],\n",
              "        [-0.03207292,  0.04291868,  0.42996544,  0.32664427,  0.24027945,\n",
              "         -0.48433036,  0.13370112, -0.42104754],\n",
              "        [-0.6752284 , -0.15277854,  0.16706419,  0.00583633,  0.44587797,\n",
              "         -0.07990431, -0.5188894 , -0.04198847],\n",
              "        [-0.00204102, -0.48696208, -0.14833656, -0.5182383 ,  0.2679773 ,\n",
              "          0.4139127 , -0.68540645,  0.72919214],\n",
              "        [-0.03601433,  0.52809256, -0.17911668, -0.33828342, -0.5093781 ,\n",
              "          0.5006957 ,  0.43133664, -0.46701074],\n",
              "        [ 0.43883666, -0.1605852 , -0.14478004, -0.01012437,  0.3010362 ,\n",
              "          0.30311805, -0.14267474,  0.44383034]], dtype=float32),\n",
              " array([-0.202925  , -0.00476425,  0.05730483, -0.16598989, -0.1175067 ,\n",
              "        -0.06652985,  0.09194191, -0.15127327], dtype=float32),\n",
              " array([[-0.44486368, -0.38258123, -0.15784337],\n",
              "        [ 0.22156866, -0.9415011 ,  0.6373023 ],\n",
              "        [ 0.5546054 , -0.8581019 , -0.2961464 ],\n",
              "        [ 0.9647744 , -0.53457606,  0.13628185],\n",
              "        [ 0.5857342 , -0.6280222 ,  0.56037277],\n",
              "        [-0.7144383 ,  0.49225184,  0.7089849 ],\n",
              "        [ 0.8973515 , -0.64575654,  0.36923635],\n",
              "        [-0.98864466, -0.8729078 ,  0.46346632]], dtype=float32),\n",
              " array([-0.17609335,  0.29593003, -0.33799288], dtype=float32)]"
            ]
          },
          "metadata": {
            "tags": []
          },
          "execution_count": 28
        }
      ]
    },
    {
      "cell_type": "markdown",
      "metadata": {
        "id": "wcOTF31JFCrF"
      },
      "source": [
        "모델에 가중치를 얼마나 넣었는지 확인하는 과정이다."
      ]
    },
    {
      "cell_type": "code",
      "metadata": {
        "id": "wskzKBRgPhy3"
      },
      "source": [
        ""
      ],
      "execution_count": null,
      "outputs": []
    },
    {
      "cell_type": "code",
      "metadata": {
        "id": "75kACcuMPhy5"
      },
      "source": [
        ""
      ],
      "execution_count": null,
      "outputs": []
    },
    {
      "cell_type": "code",
      "metadata": {
        "id": "l1VedC4wPhy5"
      },
      "source": [
        ""
      ],
      "execution_count": null,
      "outputs": []
    },
    {
      "cell_type": "markdown",
      "metadata": {
        "id": "s2HxKQKoPhy5"
      },
      "source": [
        "# 다른 코드로 Try Again"
      ]
    },
    {
      "cell_type": "markdown",
      "metadata": {
        "id": "uUBVtkhqPhy6"
      },
      "source": [
        "# 중간에 더 많은 코드를 집어넣는 것이 더 좋은 값을 만든다"
      ]
    },
    {
      "cell_type": "code",
      "metadata": {
        "id": "PdcWGcvPPxgH"
      },
      "source": [
        "X=tf.keras.layers.Input(shape=[4])\n",
        "H=tf.keras.layers.Dense(8)(X)\n",
        "H=tf.keras.layers.BatchNormalization()(H)\n",
        "H=tf.keras.layers.Activation('swish')(H)\n",
        "\n",
        "H=tf.keras.layers.Dense(8)(H)\n",
        "H=tf.keras.layers.BatchNormalization()(H)\n",
        "H=tf.keras.layers.Activation('swish')(H)\n",
        "\n",
        "H=tf.keras.layers.Dense(8)(H)\n",
        "H=tf.keras.layers.BatchNormalization()(H)\n",
        "H=tf.keras.layers.Activation('swish')(H)\n",
        "\n",
        "Y=tf.keras.layers.Dense(3,activation='softmax')(H)\n",
        "model=tf.keras.models.Model(X,Y)\n",
        "model.compile(loss='categorical_crossentropy',metrics='accuracy')"
      ],
      "execution_count": 29,
      "outputs": []
    },
    {
      "cell_type": "markdown",
      "metadata": {
        "id": "1CVymdPoPxgJ"
      },
      "source": [
        "Hidden을 사용하면 더 정확한 값을 알 수 있다."
      ]
    },
    {
      "cell_type": "markdown",
      "metadata": {
        "id": "jaN2cg1vPxgJ"
      },
      "source": [
        "구하고자 하는 값이 무엇이냐에 따라 loss를 다르게 둘 수 있다. 분류는 `loss='categorical_crossentropy'` 회귀는 `loss='mse'`이다."
      ]
    },
    {
      "cell_type": "markdown",
      "metadata": {
        "id": "YIx24S5APxgK"
      },
      "source": [
        "분류는 회귀랑 다르게 `metrisc='accuracy'`를 통해 정확도를 구할 수 있다."
      ]
    },
    {
      "cell_type": "markdown",
      "metadata": {
        "id": "_NaSkmpSPxgK"
      },
      "source": [
        "분류는 회귀보다 어렵다."
      ]
    },
    {
      "cell_type": "markdown",
      "metadata": {
        "id": "TwV5tOcePxgK"
      },
      "source": [
        "종속변수는 4개이고 독립변수는 3개라서 shape=4이고 Dense는 3개이다."
      ]
    },
    {
      "cell_type": "markdown",
      "metadata": {
        "id": "Xta3fzMfPxgK"
      },
      "source": [
        "# 3.데이터로 모델을 학습(FIT)합니다"
      ]
    },
    {
      "cell_type": "code",
      "metadata": {
        "colab": {
          "base_uri": "https://localhost:8080/"
        },
        "id": "mtHxPjQdPxgK",
        "outputId": "c3d59108-5245-4d6e-efac-76581890f658"
      },
      "source": [
        "model.fit(독립,종속,epochs=100)"
      ],
      "execution_count": 30,
      "outputs": [
        {
          "output_type": "stream",
          "text": [
            "Epoch 1/100\n",
            "5/5 [==============================] - 1s 3ms/step - loss: 1.6092 - accuracy: 0.0400\n",
            "Epoch 2/100\n",
            "5/5 [==============================] - 0s 3ms/step - loss: 1.4808 - accuracy: 0.1000\n",
            "Epoch 3/100\n",
            "5/5 [==============================] - 0s 3ms/step - loss: 1.4059 - accuracy: 0.1200\n",
            "Epoch 4/100\n",
            "5/5 [==============================] - 0s 3ms/step - loss: 1.3205 - accuracy: 0.2000\n",
            "Epoch 5/100\n",
            "5/5 [==============================] - 0s 3ms/step - loss: 1.2746 - accuracy: 0.2733\n",
            "Epoch 6/100\n",
            "5/5 [==============================] - 0s 3ms/step - loss: 1.1863 - accuracy: 0.4200\n",
            "Epoch 7/100\n",
            "5/5 [==============================] - 0s 4ms/step - loss: 1.1261 - accuracy: 0.4800\n",
            "Epoch 8/100\n",
            "5/5 [==============================] - 0s 3ms/step - loss: 1.0427 - accuracy: 0.5867\n",
            "Epoch 9/100\n",
            "5/5 [==============================] - 0s 3ms/step - loss: 1.0042 - accuracy: 0.6000\n",
            "Epoch 10/100\n",
            "5/5 [==============================] - 0s 3ms/step - loss: 0.9706 - accuracy: 0.6267\n",
            "Epoch 11/100\n",
            "5/5 [==============================] - 0s 5ms/step - loss: 0.9023 - accuracy: 0.6267\n",
            "Epoch 12/100\n",
            "5/5 [==============================] - 0s 4ms/step - loss: 0.8804 - accuracy: 0.6400\n",
            "Epoch 13/100\n",
            "5/5 [==============================] - 0s 3ms/step - loss: 0.8475 - accuracy: 0.6533\n",
            "Epoch 14/100\n",
            "5/5 [==============================] - 0s 3ms/step - loss: 0.8092 - accuracy: 0.6467\n",
            "Epoch 15/100\n",
            "5/5 [==============================] - 0s 3ms/step - loss: 0.7763 - accuracy: 0.6667\n",
            "Epoch 16/100\n",
            "5/5 [==============================] - 0s 4ms/step - loss: 0.7184 - accuracy: 0.6867\n",
            "Epoch 17/100\n",
            "5/5 [==============================] - 0s 3ms/step - loss: 0.6974 - accuracy: 0.6800\n",
            "Epoch 18/100\n",
            "5/5 [==============================] - 0s 3ms/step - loss: 0.6719 - accuracy: 0.7200\n",
            "Epoch 19/100\n",
            "5/5 [==============================] - 0s 3ms/step - loss: 0.6557 - accuracy: 0.7467\n",
            "Epoch 20/100\n",
            "5/5 [==============================] - 0s 3ms/step - loss: 0.6452 - accuracy: 0.7200\n",
            "Epoch 21/100\n",
            "5/5 [==============================] - 0s 2ms/step - loss: 0.5905 - accuracy: 0.7800\n",
            "Epoch 22/100\n",
            "5/5 [==============================] - 0s 3ms/step - loss: 0.5709 - accuracy: 0.7667\n",
            "Epoch 23/100\n",
            "5/5 [==============================] - 0s 3ms/step - loss: 0.5492 - accuracy: 0.8333\n",
            "Epoch 24/100\n",
            "5/5 [==============================] - 0s 4ms/step - loss: 0.5286 - accuracy: 0.8067\n",
            "Epoch 25/100\n",
            "5/5 [==============================] - 0s 3ms/step - loss: 0.5066 - accuracy: 0.8467\n",
            "Epoch 26/100\n",
            "5/5 [==============================] - 0s 3ms/step - loss: 0.4731 - accuracy: 0.8800\n",
            "Epoch 27/100\n",
            "5/5 [==============================] - 0s 3ms/step - loss: 0.4614 - accuracy: 0.9067\n",
            "Epoch 28/100\n",
            "5/5 [==============================] - 0s 3ms/step - loss: 0.4505 - accuracy: 0.9200\n",
            "Epoch 29/100\n",
            "5/5 [==============================] - 0s 5ms/step - loss: 0.4352 - accuracy: 0.9133\n",
            "Epoch 30/100\n",
            "5/5 [==============================] - 0s 3ms/step - loss: 0.4167 - accuracy: 0.9400\n",
            "Epoch 31/100\n",
            "5/5 [==============================] - 0s 3ms/step - loss: 0.3929 - accuracy: 0.9467\n",
            "Epoch 32/100\n",
            "5/5 [==============================] - 0s 4ms/step - loss: 0.3758 - accuracy: 0.9533\n",
            "Epoch 33/100\n",
            "5/5 [==============================] - 0s 3ms/step - loss: 0.3698 - accuracy: 0.9533\n",
            "Epoch 34/100\n",
            "5/5 [==============================] - 0s 3ms/step - loss: 0.3478 - accuracy: 0.9600\n",
            "Epoch 35/100\n",
            "5/5 [==============================] - 0s 3ms/step - loss: 0.3394 - accuracy: 0.9467\n",
            "Epoch 36/100\n",
            "5/5 [==============================] - 0s 4ms/step - loss: 0.3343 - accuracy: 0.9067\n",
            "Epoch 37/100\n",
            "5/5 [==============================] - 0s 5ms/step - loss: 0.3227 - accuracy: 0.9600\n",
            "Epoch 38/100\n",
            "5/5 [==============================] - 0s 3ms/step - loss: 0.3088 - accuracy: 0.9600\n",
            "Epoch 39/100\n",
            "5/5 [==============================] - 0s 4ms/step - loss: 0.2889 - accuracy: 0.9867\n",
            "Epoch 40/100\n",
            "5/5 [==============================] - 0s 3ms/step - loss: 0.3014 - accuracy: 0.9333\n",
            "Epoch 41/100\n",
            "5/5 [==============================] - 0s 5ms/step - loss: 0.2755 - accuracy: 0.9667\n",
            "Epoch 42/100\n",
            "5/5 [==============================] - 0s 3ms/step - loss: 0.2715 - accuracy: 0.9600\n",
            "Epoch 43/100\n",
            "5/5 [==============================] - 0s 4ms/step - loss: 0.2892 - accuracy: 0.9400\n",
            "Epoch 44/100\n",
            "5/5 [==============================] - 0s 3ms/step - loss: 0.2487 - accuracy: 0.9733\n",
            "Epoch 45/100\n",
            "5/5 [==============================] - 0s 3ms/step - loss: 0.2601 - accuracy: 0.9467\n",
            "Epoch 46/100\n",
            "5/5 [==============================] - 0s 3ms/step - loss: 0.2372 - accuracy: 0.9733\n",
            "Epoch 47/100\n",
            "5/5 [==============================] - 0s 3ms/step - loss: 0.2380 - accuracy: 0.9800\n",
            "Epoch 48/100\n",
            "5/5 [==============================] - 0s 4ms/step - loss: 0.2621 - accuracy: 0.9333\n",
            "Epoch 49/100\n",
            "5/5 [==============================] - 0s 4ms/step - loss: 0.2326 - accuracy: 0.9600\n",
            "Epoch 50/100\n",
            "5/5 [==============================] - 0s 3ms/step - loss: 0.2150 - accuracy: 0.9733\n",
            "Epoch 51/100\n",
            "5/5 [==============================] - 0s 3ms/step - loss: 0.2272 - accuracy: 0.9533\n",
            "Epoch 52/100\n",
            "5/5 [==============================] - 0s 3ms/step - loss: 0.2193 - accuracy: 0.9533\n",
            "Epoch 53/100\n",
            "5/5 [==============================] - 0s 7ms/step - loss: 0.2428 - accuracy: 0.9533\n",
            "Epoch 54/100\n",
            "5/5 [==============================] - 0s 3ms/step - loss: 0.1760 - accuracy: 0.9933\n",
            "Epoch 55/100\n",
            "5/5 [==============================] - 0s 3ms/step - loss: 0.1913 - accuracy: 0.9667\n",
            "Epoch 56/100\n",
            "5/5 [==============================] - 0s 3ms/step - loss: 0.1871 - accuracy: 0.9600\n",
            "Epoch 57/100\n",
            "5/5 [==============================] - 0s 4ms/step - loss: 0.2019 - accuracy: 0.9333\n",
            "Epoch 58/100\n",
            "5/5 [==============================] - 0s 3ms/step - loss: 0.1820 - accuracy: 0.9600\n",
            "Epoch 59/100\n",
            "5/5 [==============================] - 0s 4ms/step - loss: 0.1593 - accuracy: 0.9733\n",
            "Epoch 60/100\n",
            "5/5 [==============================] - 0s 3ms/step - loss: 0.1755 - accuracy: 0.9533\n",
            "Epoch 61/100\n",
            "5/5 [==============================] - 0s 3ms/step - loss: 0.1509 - accuracy: 0.9800\n",
            "Epoch 62/100\n",
            "5/5 [==============================] - 0s 3ms/step - loss: 0.1999 - accuracy: 0.9533\n",
            "Epoch 63/100\n",
            "5/5 [==============================] - 0s 4ms/step - loss: 0.1612 - accuracy: 0.9733\n",
            "Epoch 64/100\n",
            "5/5 [==============================] - 0s 4ms/step - loss: 0.2068 - accuracy: 0.9400\n",
            "Epoch 65/100\n",
            "5/5 [==============================] - 0s 3ms/step - loss: 0.1538 - accuracy: 0.9800\n",
            "Epoch 66/100\n",
            "5/5 [==============================] - 0s 5ms/step - loss: 0.1562 - accuracy: 0.9800\n",
            "Epoch 67/100\n",
            "5/5 [==============================] - 0s 3ms/step - loss: 0.1370 - accuracy: 0.9867\n",
            "Epoch 68/100\n",
            "5/5 [==============================] - 0s 3ms/step - loss: 0.1329 - accuracy: 0.9800\n",
            "Epoch 69/100\n",
            "5/5 [==============================] - 0s 3ms/step - loss: 0.1439 - accuracy: 0.9933\n",
            "Epoch 70/100\n",
            "5/5 [==============================] - 0s 3ms/step - loss: 0.1555 - accuracy: 0.9667\n",
            "Epoch 71/100\n",
            "5/5 [==============================] - 0s 3ms/step - loss: 0.1338 - accuracy: 0.9800\n",
            "Epoch 72/100\n",
            "5/5 [==============================] - 0s 3ms/step - loss: 0.1665 - accuracy: 0.9533\n",
            "Epoch 73/100\n",
            "5/5 [==============================] - 0s 4ms/step - loss: 0.1665 - accuracy: 0.9533\n",
            "Epoch 74/100\n",
            "5/5 [==============================] - 0s 5ms/step - loss: 0.1239 - accuracy: 0.9800\n",
            "Epoch 75/100\n",
            "5/5 [==============================] - 0s 3ms/step - loss: 0.1425 - accuracy: 0.9667\n",
            "Epoch 76/100\n",
            "5/5 [==============================] - 0s 4ms/step - loss: 0.1207 - accuracy: 0.9667\n",
            "Epoch 77/100\n",
            "5/5 [==============================] - 0s 3ms/step - loss: 0.1182 - accuracy: 0.9733\n",
            "Epoch 78/100\n",
            "5/5 [==============================] - 0s 4ms/step - loss: 0.1105 - accuracy: 0.9800\n",
            "Epoch 79/100\n",
            "5/5 [==============================] - 0s 3ms/step - loss: 0.1369 - accuracy: 0.9600\n",
            "Epoch 80/100\n",
            "5/5 [==============================] - 0s 3ms/step - loss: 0.0942 - accuracy: 0.9800\n",
            "Epoch 81/100\n",
            "5/5 [==============================] - 0s 3ms/step - loss: 0.1898 - accuracy: 0.9400\n",
            "Epoch 82/100\n",
            "5/5 [==============================] - 0s 3ms/step - loss: 0.1071 - accuracy: 0.9667\n",
            "Epoch 83/100\n",
            "5/5 [==============================] - 0s 3ms/step - loss: 0.1578 - accuracy: 0.9400\n",
            "Epoch 84/100\n",
            "5/5 [==============================] - 0s 5ms/step - loss: 0.1329 - accuracy: 0.9467\n",
            "Epoch 85/100\n",
            "5/5 [==============================] - 0s 3ms/step - loss: 0.0971 - accuracy: 0.9667\n",
            "Epoch 86/100\n",
            "5/5 [==============================] - 0s 5ms/step - loss: 0.1236 - accuracy: 0.9667\n",
            "Epoch 87/100\n",
            "5/5 [==============================] - 0s 4ms/step - loss: 0.1334 - accuracy: 0.9600\n",
            "Epoch 88/100\n",
            "5/5 [==============================] - 0s 3ms/step - loss: 0.1312 - accuracy: 0.9600\n",
            "Epoch 89/100\n",
            "5/5 [==============================] - 0s 3ms/step - loss: 0.0951 - accuracy: 0.9933\n",
            "Epoch 90/100\n",
            "5/5 [==============================] - 0s 4ms/step - loss: 0.0854 - accuracy: 0.9933\n",
            "Epoch 91/100\n",
            "5/5 [==============================] - 0s 3ms/step - loss: 0.0825 - accuracy: 0.9933\n",
            "Epoch 92/100\n",
            "5/5 [==============================] - 0s 5ms/step - loss: 0.1556 - accuracy: 0.9467\n",
            "Epoch 93/100\n",
            "5/5 [==============================] - 0s 3ms/step - loss: 0.0860 - accuracy: 0.9733\n",
            "Epoch 94/100\n",
            "5/5 [==============================] - 0s 4ms/step - loss: 0.0909 - accuracy: 0.9733\n",
            "Epoch 95/100\n",
            "5/5 [==============================] - 0s 3ms/step - loss: 0.0961 - accuracy: 0.9733\n",
            "Epoch 96/100\n",
            "5/5 [==============================] - 0s 4ms/step - loss: 0.1399 - accuracy: 0.9333\n",
            "Epoch 97/100\n",
            "5/5 [==============================] - 0s 3ms/step - loss: 0.0965 - accuracy: 0.9667\n",
            "Epoch 98/100\n",
            "5/5 [==============================] - 0s 4ms/step - loss: 0.0898 - accuracy: 0.9800\n",
            "Epoch 99/100\n",
            "5/5 [==============================] - 0s 3ms/step - loss: 0.0850 - accuracy: 0.9800\n",
            "Epoch 100/100\n",
            "5/5 [==============================] - 0s 3ms/step - loss: 0.1336 - accuracy: 0.9600\n"
          ],
          "name": "stdout"
        },
        {
          "output_type": "execute_result",
          "data": {
            "text/plain": [
              "<tensorflow.python.keras.callbacks.History at 0x7f5b9af15f90>"
            ]
          },
          "metadata": {
            "tags": []
          },
          "execution_count": 30
        }
      ]
    },
    {
      "cell_type": "markdown",
      "metadata": {
        "id": "EEuQL-PlPxgL"
      },
      "source": [
        "# 4.모델을 이용합니다"
      ]
    },
    {
      "cell_type": "code",
      "metadata": {
        "colab": {
          "base_uri": "https://localhost:8080/"
        },
        "id": "wKGPpYmkPxgL",
        "outputId": "0e8bd494-f869-4cc5-e787-79006a1ef0a4"
      },
      "source": [
        "print(model.predict(독립[0:5]))"
      ],
      "execution_count": 31,
      "outputs": [
        {
          "output_type": "stream",
          "text": [
            "[[9.9872738e-01 7.7172316e-04 5.0089473e-04]\n",
            " [9.9850070e-01 1.0256000e-03 4.7376109e-04]\n",
            " [9.9935561e-01 3.7681058e-04 2.6759240e-04]\n",
            " [9.9877268e-01 8.1657380e-04 4.1079492e-04]\n",
            " [9.9900407e-01 5.4539007e-04 4.5056365e-04]]\n"
          ],
          "name": "stdout"
        }
      ]
    },
    {
      "cell_type": "markdown",
      "metadata": {
        "id": "042lG2vjPxgL"
      },
      "source": [
        "예상값으로 가장 높은 값을 가진 1번이 정답이다."
      ]
    },
    {
      "cell_type": "code",
      "metadata": {
        "colab": {
          "base_uri": "https://localhost:8080/"
        },
        "id": "3EFO7Q0MPxgM",
        "outputId": "5bb08d02-8149-4fcc-8d65-5653a2140335"
      },
      "source": [
        "print([종속[0:5]])"
      ],
      "execution_count": 32,
      "outputs": [
        {
          "output_type": "stream",
          "text": [
            "[   품종_setosa  품종_versicolor  품종_virginica\n",
            "0          1              0             0\n",
            "1          1              0             0\n",
            "2          1              0             0\n",
            "3          1              0             0\n",
            "4          1              0             0]\n"
          ],
          "name": "stdout"
        }
      ]
    },
    {
      "cell_type": "markdown",
      "metadata": {
        "id": "pLURtF2FPxgM"
      },
      "source": [
        "실제값과 비교해본 결과 예상값이 정답이다."
      ]
    },
    {
      "cell_type": "code",
      "metadata": {
        "colab": {
          "base_uri": "https://localhost:8080/"
        },
        "id": "-PTxjpCBPxgM",
        "outputId": "33bf46f5-e612-4cd7-ce6a-6ad513648a89"
      },
      "source": [
        "model.get_weights()"
      ],
      "execution_count": 33,
      "outputs": [
        {
          "output_type": "execute_result",
          "data": {
            "text/plain": [
              "[array([[ 0.0357992 ,  0.47519907, -0.02940656, -0.25601143, -0.04137721,\n",
              "         -0.32155812, -0.10843134,  0.04424128],\n",
              "        [ 0.37529713, -0.18625948,  0.24235705,  0.34637836, -0.42388007,\n",
              "         -0.07130403,  0.11883364, -0.5164849 ],\n",
              "        [ 0.11521164,  0.2779927 , -0.31667733, -0.31534013,  0.3911621 ,\n",
              "          0.5872142 , -0.31198323, -0.75738865],\n",
              "        [ 0.579313  , -0.63426805,  0.20104341, -0.8632307 ,  0.03707255,\n",
              "         -0.6446731 ,  0.4354056 , -0.07791865]], dtype=float32),\n",
              " array([-0.00500258,  0.00062235, -0.00217303, -0.00169796,  0.00577644,\n",
              "         0.00086153,  0.00601756,  0.004927  ], dtype=float32),\n",
              " array([0.91090345, 0.8556691 , 0.9278345 , 1.0475839 , 1.169828  ,\n",
              "        0.87205726, 0.9890626 , 1.0705273 ], dtype=float32),\n",
              " array([ 0.03579813, -0.16776852, -0.1624426 ,  0.00700518,  0.04333006,\n",
              "         0.14064579,  0.14191172,  0.10582705], dtype=float32),\n",
              " array([ 2.5370362 ,  2.745801  , -0.29513964, -2.588255  , -0.04519401,\n",
              "        -0.44873762, -0.705151  , -4.249901  ], dtype=float32),\n",
              " array([0.389482  , 0.26531798, 0.21424547, 1.9356647 , 0.5764159 ,\n",
              "        0.19860628, 0.10466272, 1.5013291 ], dtype=float32),\n",
              " array([[ 0.15443344,  0.2870744 ,  0.05497759,  0.59125113, -0.0416872 ,\n",
              "          0.49932107,  0.2703694 , -0.01957034],\n",
              "        [-0.35024026,  0.17604724, -0.25284544,  0.287191  , -0.48144147,\n",
              "          0.04920507, -0.1671976 ,  0.17068717],\n",
              "        [-0.33314976, -0.5988932 ,  0.6204863 ,  0.1671843 , -0.11096691,\n",
              "          0.6505659 ,  0.31889397, -0.27917263],\n",
              "        [ 0.45632392, -0.3650419 ,  0.19196753,  0.07714844,  0.48606476,\n",
              "         -0.09532283, -0.05652512,  0.60605747],\n",
              "        [-0.18758315,  0.731984  , -0.7192357 , -0.15218978,  0.6924082 ,\n",
              "          0.3392531 ,  0.5462166 , -0.02610581],\n",
              "        [ 0.5701228 ,  0.10762727,  0.355846  ,  0.2689739 , -0.44084996,\n",
              "         -0.05816928,  0.40667042, -0.5500752 ],\n",
              "        [-0.80772394, -0.21825166, -0.33071533, -0.6373718 ,  0.25850695,\n",
              "         -0.40001893, -0.01294984,  0.11395042],\n",
              "        [-0.3321593 , -0.18462245,  0.1902557 , -0.7808165 , -0.521617  ,\n",
              "         -0.32974637, -0.31954652,  0.0512697 ]], dtype=float32),\n",
              " array([-2.1434349e-03, -1.0502426e-06, -3.1738458e-05, -3.0729690e-05,\n",
              "         4.0356861e-03,  1.1721489e-03, -3.9097329e-04, -1.0526205e-03],\n",
              "       dtype=float32),\n",
              " array([0.92493236, 0.9692012 , 0.79478776, 0.7334012 , 0.9569669 ,\n",
              "        1.0952404 , 1.026837  , 1.1712834 ], dtype=float32),\n",
              " array([ 0.03248871,  0.04688533, -0.16161938, -0.20148997,  0.10675528,\n",
              "         0.08660337, -0.01706435,  0.18258306], dtype=float32),\n",
              " array([-0.15911065,  0.04873629, -0.05933174, -0.22110114,  0.09311476,\n",
              "         0.04428254,  0.23244348,  0.02522647], dtype=float32),\n",
              " array([0.42884266, 1.6617652 , 0.38177148, 1.1333222 , 0.05202477,\n",
              "        0.29852468, 0.34711036, 0.26861674], dtype=float32),\n",
              " array([[ 0.13591403,  0.48461825, -0.19265674, -0.06997204, -0.00241974,\n",
              "         -0.13895606, -0.51935977,  0.05120521],\n",
              "        [ 0.45343596, -0.45644134, -0.01892204, -0.10128304,  0.7752454 ,\n",
              "          0.11465279,  0.11199524, -0.04315199],\n",
              "        [ 0.05524336,  0.06443161,  0.3643213 ,  0.28817263, -0.02717508,\n",
              "         -0.3153709 ,  0.20232312, -0.14711511],\n",
              "        [ 0.01442291, -0.4564137 , -0.00096842,  0.0734245 , -0.37476802,\n",
              "          0.02545468,  0.01985506, -0.15899183],\n",
              "        [-0.1219956 , -0.2022639 ,  0.21358754,  0.03066102,  0.01320313,\n",
              "          0.38082942,  0.04876731, -0.14730294],\n",
              "        [-0.1651064 ,  0.3303734 ,  0.03807401,  0.03011214,  0.5253093 ,\n",
              "          0.1358002 , -0.10156098, -0.03321987],\n",
              "        [-0.6744575 , -0.71307576,  0.50195783,  0.19493142, -0.08381024,\n",
              "          0.1841149 ,  0.37976024, -0.39535055],\n",
              "        [-0.32929003,  0.04348566, -0.28406706,  0.2262535 , -0.12256384,\n",
              "          0.02557369,  0.711061  ,  0.6051933 ]], dtype=float32),\n",
              " array([ 4.8718955e-03, -3.0787975e-05, -4.4239513e-03, -1.5196389e-03,\n",
              "         6.7034521e-04, -1.0661413e-03,  1.5543869e-03,  6.2156221e-05],\n",
              "       dtype=float32),\n",
              " array([1.4110433, 1.3623172, 1.37016  , 1.4102442, 1.2851394, 1.2922329,\n",
              "        1.2179017, 1.1645894], dtype=float32),\n",
              " array([ 0.34027997,  0.23723055,  0.08318947,  0.22893938,  0.24438046,\n",
              "         0.01340023, -0.01494437, -0.00286327], dtype=float32),\n",
              " array([-0.20737362, -0.11499271,  0.03413612,  0.12948434,  0.22186144,\n",
              "         0.14474255,  0.2552897 ,  0.019471  ], dtype=float32),\n",
              " array([0.09719248, 0.23736191, 0.0919817 , 0.0752423 , 0.33090907,\n",
              "        0.12067886, 0.4432984 , 0.41516075], dtype=float32),\n",
              " array([[-1.0934945 ,  0.11408695, -0.82400244],\n",
              "        [ 0.8594057 ,  0.4886085 , -0.6493996 ],\n",
              "        [-0.42531884, -1.0192392 ,  0.13774322],\n",
              "        [ 0.7926263 , -1.0480148 , -0.00965805],\n",
              "        [-0.4425114 ,  0.15416385,  0.65943336],\n",
              "        [ 0.25181255, -0.9309091 ,  0.7926471 ],\n",
              "        [ 0.7174238 , -0.94634664, -0.70709753],\n",
              "        [ 0.9390525 ,  0.21096294, -0.18924251]], dtype=float32),\n",
              " array([-0.3535342 ,  0.18949254,  0.10970183], dtype=float32)]"
            ]
          },
          "metadata": {
            "tags": []
          },
          "execution_count": 33
        }
      ]
    },
    {
      "cell_type": "markdown",
      "metadata": {
        "id": "qhLs8H29PxgM"
      },
      "source": [
        "모델에 가중치를 얼마나 넣었는지 확인하는 과정이다."
      ]
    }
  ]
}