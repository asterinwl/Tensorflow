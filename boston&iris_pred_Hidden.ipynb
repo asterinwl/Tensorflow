{
  "nbformat": 4,
  "nbformat_minor": 0,
  "metadata": {
    "colab": {
      "name": "boston&iris_pred_Hidden.ipynb",
      "provenance": [],
      "authorship_tag": "ABX9TyORlS7sR5fdtFKrvjYlmIvE",
      "include_colab_link": true
    },
    "kernelspec": {
      "name": "python3",
      "display_name": "Python 3"
    },
    "language_info": {
      "name": "python"
    }
  },
  "cells": [
    {
      "cell_type": "markdown",
      "metadata": {
        "id": "view-in-github",
        "colab_type": "text"
      },
      "source": [
        "<a href=\"https://colab.research.google.com/github/asterinwl/Tensorflow/blob/master/boston%26iris_pred_Hidden.ipynb\" target=\"_parent\"><img src=\"https://colab.research.google.com/assets/colab-badge.svg\" alt=\"Open In Colab\"/></a>"
      ]
    },
    {
      "cell_type": "markdown",
      "metadata": {
        "id": "D1_87NqmHzqp"
      },
      "source": [
        "# **보스턴 집값**"
      ]
    },
    {
      "cell_type": "markdown",
      "metadata": {
        "id": "36xJG47Lwoad"
      },
      "source": [
        " ## 1.과거의 데이터를 준비합니다"
      ]
    },
    {
      "cell_type": "code",
      "metadata": {
        "id": "sa8xFEG4wK2J"
      },
      "source": [
        "import pandas as pd"
      ],
      "execution_count": 1,
      "outputs": []
    },
    {
      "cell_type": "code",
      "metadata": {
        "colab": {
          "base_uri": "https://localhost:8080/",
          "height": 204
        },
        "id": "FYL48H4Hw8Po",
        "outputId": "391c126b-82b2-45ab-f3d2-c8842fc83dd0"
      },
      "source": [
        "보스턴=pd.read_csv('boston.csv')\n",
        "보스턴.head()"
      ],
      "execution_count": 2,
      "outputs": [
        {
          "output_type": "execute_result",
          "data": {
            "text/html": [
              "<div>\n",
              "<style scoped>\n",
              "    .dataframe tbody tr th:only-of-type {\n",
              "        vertical-align: middle;\n",
              "    }\n",
              "\n",
              "    .dataframe tbody tr th {\n",
              "        vertical-align: top;\n",
              "    }\n",
              "\n",
              "    .dataframe thead th {\n",
              "        text-align: right;\n",
              "    }\n",
              "</style>\n",
              "<table border=\"1\" class=\"dataframe\">\n",
              "  <thead>\n",
              "    <tr style=\"text-align: right;\">\n",
              "      <th></th>\n",
              "      <th>crim</th>\n",
              "      <th>zn</th>\n",
              "      <th>indus</th>\n",
              "      <th>chas</th>\n",
              "      <th>nox</th>\n",
              "      <th>rm</th>\n",
              "      <th>age</th>\n",
              "      <th>dis</th>\n",
              "      <th>rad</th>\n",
              "      <th>tax</th>\n",
              "      <th>ptratio</th>\n",
              "      <th>b</th>\n",
              "      <th>lstat</th>\n",
              "      <th>medv</th>\n",
              "    </tr>\n",
              "  </thead>\n",
              "  <tbody>\n",
              "    <tr>\n",
              "      <th>0</th>\n",
              "      <td>0.00632</td>\n",
              "      <td>18.0</td>\n",
              "      <td>2.31</td>\n",
              "      <td>0</td>\n",
              "      <td>0.538</td>\n",
              "      <td>6.575</td>\n",
              "      <td>65.2</td>\n",
              "      <td>4.0900</td>\n",
              "      <td>1</td>\n",
              "      <td>296</td>\n",
              "      <td>15.3</td>\n",
              "      <td>396.90</td>\n",
              "      <td>4.98</td>\n",
              "      <td>24.0</td>\n",
              "    </tr>\n",
              "    <tr>\n",
              "      <th>1</th>\n",
              "      <td>0.02731</td>\n",
              "      <td>0.0</td>\n",
              "      <td>7.07</td>\n",
              "      <td>0</td>\n",
              "      <td>0.469</td>\n",
              "      <td>6.421</td>\n",
              "      <td>78.9</td>\n",
              "      <td>4.9671</td>\n",
              "      <td>2</td>\n",
              "      <td>242</td>\n",
              "      <td>17.8</td>\n",
              "      <td>396.90</td>\n",
              "      <td>9.14</td>\n",
              "      <td>21.6</td>\n",
              "    </tr>\n",
              "    <tr>\n",
              "      <th>2</th>\n",
              "      <td>0.02729</td>\n",
              "      <td>0.0</td>\n",
              "      <td>7.07</td>\n",
              "      <td>0</td>\n",
              "      <td>0.469</td>\n",
              "      <td>7.185</td>\n",
              "      <td>61.1</td>\n",
              "      <td>4.9671</td>\n",
              "      <td>2</td>\n",
              "      <td>242</td>\n",
              "      <td>17.8</td>\n",
              "      <td>392.83</td>\n",
              "      <td>4.03</td>\n",
              "      <td>34.7</td>\n",
              "    </tr>\n",
              "    <tr>\n",
              "      <th>3</th>\n",
              "      <td>0.03237</td>\n",
              "      <td>0.0</td>\n",
              "      <td>2.18</td>\n",
              "      <td>0</td>\n",
              "      <td>0.458</td>\n",
              "      <td>6.998</td>\n",
              "      <td>45.8</td>\n",
              "      <td>6.0622</td>\n",
              "      <td>3</td>\n",
              "      <td>222</td>\n",
              "      <td>18.7</td>\n",
              "      <td>394.63</td>\n",
              "      <td>2.94</td>\n",
              "      <td>33.4</td>\n",
              "    </tr>\n",
              "    <tr>\n",
              "      <th>4</th>\n",
              "      <td>0.06905</td>\n",
              "      <td>0.0</td>\n",
              "      <td>2.18</td>\n",
              "      <td>0</td>\n",
              "      <td>0.458</td>\n",
              "      <td>7.147</td>\n",
              "      <td>54.2</td>\n",
              "      <td>6.0622</td>\n",
              "      <td>3</td>\n",
              "      <td>222</td>\n",
              "      <td>18.7</td>\n",
              "      <td>396.90</td>\n",
              "      <td>5.33</td>\n",
              "      <td>36.2</td>\n",
              "    </tr>\n",
              "  </tbody>\n",
              "</table>\n",
              "</div>"
            ],
            "text/plain": [
              "      crim    zn  indus  chas    nox  ...  tax  ptratio       b  lstat  medv\n",
              "0  0.00632  18.0   2.31     0  0.538  ...  296     15.3  396.90   4.98  24.0\n",
              "1  0.02731   0.0   7.07     0  0.469  ...  242     17.8  396.90   9.14  21.6\n",
              "2  0.02729   0.0   7.07     0  0.469  ...  242     17.8  392.83   4.03  34.7\n",
              "3  0.03237   0.0   2.18     0  0.458  ...  222     18.7  394.63   2.94  33.4\n",
              "4  0.06905   0.0   2.18     0  0.458  ...  222     18.7  396.90   5.33  36.2\n",
              "\n",
              "[5 rows x 14 columns]"
            ]
          },
          "metadata": {
            "tags": []
          },
          "execution_count": 2
        }
      ]
    },
    {
      "cell_type": "code",
      "metadata": {
        "colab": {
          "base_uri": "https://localhost:8080/"
        },
        "id": "RTNY6BhYxFLo",
        "outputId": "17f5aea7-40c5-49e1-831a-823fc7cc6f75"
      },
      "source": [
        "독립=보스턴[['crim','zn','indus','chas','nox','rm','age','dis','rad','tax','ptratio','b','lstat']]\n",
        "종속=보스턴[['medv']]\n",
        "print(독립.shape,종속.shape)"
      ],
      "execution_count": 3,
      "outputs": [
        {
          "output_type": "stream",
          "text": [
            "(506, 13) (506, 1)\n"
          ],
          "name": "stdout"
        }
      ]
    },
    {
      "cell_type": "markdown",
      "metadata": {
        "id": "ub6_P2lgws3Y"
      },
      "source": [
        "# 2.모델의 구조를 만듭니다"
      ]
    },
    {
      "cell_type": "code",
      "metadata": {
        "id": "yASGxI05xgQd"
      },
      "source": [
        "import tensorflow as tf"
      ],
      "execution_count": 4,
      "outputs": []
    },
    {
      "cell_type": "code",
      "metadata": {
        "id": "l7AptXI3xmbv"
      },
      "source": [
        "X=tf.keras.layers.Input(shape=[13])\n",
        "H=tf.keras.layers.Dense(10,activation='swish')(X)\n",
        "Y=tf.keras.layers.Dense(1)(H)\n",
        "model=tf.keras.models.Model(X,Y)\n",
        "model.compile(loss='mse')"
      ],
      "execution_count": 5,
      "outputs": []
    },
    {
      "cell_type": "markdown",
      "metadata": {
        "id": "ZiAD4EDLyqf1"
      },
      "source": [
        "독립변수는 13개고 종속변수는 1개이므로 X는 shape가 13,Y는 Dense가 1이다."
      ]
    },
    {
      "cell_type": "markdown",
      "metadata": {
        "id": "qv7ei9bsHgG4"
      },
      "source": [
        "Hidden을 써야지 더 좋은 결과값을 구할 수 있다."
      ]
    },
    {
      "cell_type": "code",
      "metadata": {
        "colab": {
          "base_uri": "https://localhost:8080/"
        },
        "id": "Vqd6HvHrHF0z",
        "outputId": "4668cfd5-0a83-4acb-a1d4-f0d573591b2b"
      },
      "source": [
        "model.summary()"
      ],
      "execution_count": 6,
      "outputs": [
        {
          "output_type": "stream",
          "text": [
            "Model: \"model\"\n",
            "_________________________________________________________________\n",
            "Layer (type)                 Output Shape              Param #   \n",
            "=================================================================\n",
            "input_1 (InputLayer)         [(None, 13)]              0         \n",
            "_________________________________________________________________\n",
            "dense (Dense)                (None, 10)                140       \n",
            "_________________________________________________________________\n",
            "dense_1 (Dense)              (None, 1)                 11        \n",
            "=================================================================\n",
            "Total params: 151\n",
            "Trainable params: 151\n",
            "Non-trainable params: 0\n",
            "_________________________________________________________________\n"
          ],
          "name": "stdout"
        }
      ]
    },
    {
      "cell_type": "markdown",
      "metadata": {
        "id": "1m55pzzJxrkJ"
      },
      "source": [
        "# 3.데이터로 모델을 학습(FIT)합니다."
      ]
    },
    {
      "cell_type": "code",
      "metadata": {
        "colab": {
          "base_uri": "https://localhost:8080/"
        },
        "id": "j91d4X2oxvlq",
        "outputId": "884fe304-4d22-4c3e-e915-7109eaed0e6e"
      },
      "source": [
        "model.fit(독립,종속,epochs=10)"
      ],
      "execution_count": 7,
      "outputs": [
        {
          "output_type": "stream",
          "text": [
            "Epoch 1/10\n",
            "16/16 [==============================] - 1s 2ms/step - loss: 20187.1797\n",
            "Epoch 2/10\n",
            "16/16 [==============================] - 0s 2ms/step - loss: 10257.7197\n",
            "Epoch 3/10\n",
            "16/16 [==============================] - 0s 2ms/step - loss: 5402.7578\n",
            "Epoch 4/10\n",
            "16/16 [==============================] - 0s 1ms/step - loss: 3016.4614\n",
            "Epoch 5/10\n",
            "16/16 [==============================] - 0s 2ms/step - loss: 2015.0549\n",
            "Epoch 6/10\n",
            "16/16 [==============================] - 0s 1ms/step - loss: 1464.9175\n",
            "Epoch 7/10\n",
            "16/16 [==============================] - 0s 1ms/step - loss: 1068.1583\n",
            "Epoch 8/10\n",
            "16/16 [==============================] - 0s 1ms/step - loss: 789.7278\n",
            "Epoch 9/10\n",
            "16/16 [==============================] - 0s 2ms/step - loss: 622.7561\n",
            "Epoch 10/10\n",
            "16/16 [==============================] - 0s 1ms/step - loss: 516.8416\n"
          ],
          "name": "stdout"
        },
        {
          "output_type": "execute_result",
          "data": {
            "text/plain": [
              "<tensorflow.python.keras.callbacks.History at 0x7f5b812668d0>"
            ]
          },
          "metadata": {
            "tags": []
          },
          "execution_count": 7
        }
      ]
    },
    {
      "cell_type": "code",
      "metadata": {
        "colab": {
          "base_uri": "https://localhost:8080/"
        },
        "id": "OcfNUB-Py-f7",
        "outputId": "b0af84c1-c776-439f-a9d8-00fc745854cb"
      },
      "source": [
        "model.fit(독립,종속,epochs=1000, verbose=0)"
      ],
      "execution_count": 8,
      "outputs": [
        {
          "output_type": "execute_result",
          "data": {
            "text/plain": [
              "<tensorflow.python.keras.callbacks.History at 0x7f5b764b8810>"
            ]
          },
          "metadata": {
            "tags": []
          },
          "execution_count": 8
        }
      ]
    },
    {
      "cell_type": "markdown",
      "metadata": {
        "id": "IyGZaLB8zJbz"
      },
      "source": [
        "verbose=0은 결과값을 보지 않겠다는 의미이다."
      ]
    },
    {
      "cell_type": "markdown",
      "metadata": {
        "id": "r7wTjbWtx2Gl"
      },
      "source": [
        "# 4.모델을 이용합니다."
      ]
    },
    {
      "cell_type": "code",
      "metadata": {
        "colab": {
          "base_uri": "https://localhost:8080/"
        },
        "id": "RqqD_-rXx6TQ",
        "outputId": "b7e87981-37d0-47fd-a8e9-bc008f4a195f"
      },
      "source": [
        "print(\"Predictions: \",model.predict(독립[0:5]))"
      ],
      "execution_count": 9,
      "outputs": [
        {
          "output_type": "stream",
          "text": [
            "Predictions:  [[33.581112]\n",
            " [26.80545 ]\n",
            " [32.9733  ]\n",
            " [32.551548]\n",
            " [31.132929]]\n"
          ],
          "name": "stdout"
        }
      ]
    },
    {
      "cell_type": "markdown",
      "metadata": {
        "id": "7oqeOVYJ6gYA"
      },
      "source": [
        "1행부터 5행까지의 medv의 값을 추측해보았다."
      ]
    },
    {
      "cell_type": "code",
      "metadata": {
        "colab": {
          "base_uri": "https://localhost:8080/",
          "height": 204
        },
        "id": "UkPbXZXqzWqA",
        "outputId": "52e96829-c734-479b-8378-34d8cc5ce2c0"
      },
      "source": [
        "종속[0:5]"
      ],
      "execution_count": 10,
      "outputs": [
        {
          "output_type": "execute_result",
          "data": {
            "text/html": [
              "<div>\n",
              "<style scoped>\n",
              "    .dataframe tbody tr th:only-of-type {\n",
              "        vertical-align: middle;\n",
              "    }\n",
              "\n",
              "    .dataframe tbody tr th {\n",
              "        vertical-align: top;\n",
              "    }\n",
              "\n",
              "    .dataframe thead th {\n",
              "        text-align: right;\n",
              "    }\n",
              "</style>\n",
              "<table border=\"1\" class=\"dataframe\">\n",
              "  <thead>\n",
              "    <tr style=\"text-align: right;\">\n",
              "      <th></th>\n",
              "      <th>medv</th>\n",
              "    </tr>\n",
              "  </thead>\n",
              "  <tbody>\n",
              "    <tr>\n",
              "      <th>0</th>\n",
              "      <td>24.0</td>\n",
              "    </tr>\n",
              "    <tr>\n",
              "      <th>1</th>\n",
              "      <td>21.6</td>\n",
              "    </tr>\n",
              "    <tr>\n",
              "      <th>2</th>\n",
              "      <td>34.7</td>\n",
              "    </tr>\n",
              "    <tr>\n",
              "      <th>3</th>\n",
              "      <td>33.4</td>\n",
              "    </tr>\n",
              "    <tr>\n",
              "      <th>4</th>\n",
              "      <td>36.2</td>\n",
              "    </tr>\n",
              "  </tbody>\n",
              "</table>\n",
              "</div>"
            ],
            "text/plain": [
              "   medv\n",
              "0  24.0\n",
              "1  21.6\n",
              "2  34.7\n",
              "3  33.4\n",
              "4  36.2"
            ]
          },
          "metadata": {
            "tags": []
          },
          "execution_count": 10
        }
      ]
    },
    {
      "cell_type": "markdown",
      "metadata": {
        "id": "PJ7-bN_76mYX"
      },
      "source": [
        "실제 1행부터 5행까지의 medv의 값이다. 차이가 존재함을 알 수 있다."
      ]
    },
    {
      "cell_type": "markdown",
      "metadata": {
        "id": "CvnxwEnO6wNZ"
      },
      "source": [
        "# 5.모델의 수식 확인"
      ]
    },
    {
      "cell_type": "code",
      "metadata": {
        "colab": {
          "base_uri": "https://localhost:8080/"
        },
        "id": "U781SCVg6tAK",
        "outputId": "382776fa-d966-4330-b9c0-8d6cff74ed72"
      },
      "source": [
        "model.get_weights()"
      ],
      "execution_count": 11,
      "outputs": [
        {
          "output_type": "execute_result",
          "data": {
            "text/plain": [
              "[array([[ 1.21721916e-01,  1.89218357e-01,  2.30810985e-01,\n",
              "         -4.51219738e-01, -5.75483926e-02,  6.33397922e-02,\n",
              "         -5.18467963e-01,  1.44545287e-01, -8.80542547e-02,\n",
              "          5.20455182e-01],\n",
              "        [-2.78196216e-01, -2.24475294e-01,  2.44741917e-01,\n",
              "          3.92723739e-01,  3.21783461e-02, -1.97703131e-02,\n",
              "          5.64114571e-01,  1.41449153e-01,  1.42850742e-01,\n",
              "          2.33351812e-01],\n",
              "        [ 6.94229007e-01,  3.48482758e-01, -2.63919860e-01,\n",
              "          8.90460610e-02,  2.17781737e-01, -1.54535532e-01,\n",
              "          1.05190113e-01, -4.36384857e-01, -2.04971135e-01,\n",
              "         -5.90907216e-01],\n",
              "        [ 1.83854520e+00,  1.70472503e+00, -4.88640040e-01,\n",
              "          3.81455839e-01, -1.28966820e+00,  5.69629967e-01,\n",
              "          1.88733184e+00, -1.48187414e-01,  2.18729639e+00,\n",
              "         -2.14066195e+00],\n",
              "        [-2.51565367e-01,  2.96972781e-01,  4.39234614e-01,\n",
              "          2.27896631e-01, -7.24868894e-01, -5.66691160e-01,\n",
              "          7.89380968e-01, -1.14340395e-01,  6.03698432e-01,\n",
              "         -5.70618212e-01],\n",
              "        [-6.49555802e-01,  2.01873302e+00, -4.28250462e-01,\n",
              "         -2.95918941e-01, -2.11956882e+00,  3.77744921e-02,\n",
              "          2.16720200e+00,  1.54909715e-01,  2.22508287e+00,\n",
              "         -2.22570777e+00],\n",
              "        [ 5.01475573e-01,  4.80030298e-01, -2.31986225e-01,\n",
              "         -2.14997441e-01,  2.28303701e-01,  3.95749044e-03,\n",
              "          1.82088643e-01, -4.21112269e-01,  1.16307877e-01,\n",
              "          2.02743039e-01],\n",
              "        [-1.22019279e+00, -1.06392264e+00,  1.75363183e-01,\n",
              "          4.98250902e-01,  7.04383314e-01, -2.25126371e-01,\n",
              "         -2.71685272e-01, -1.90513551e-01, -6.98727131e-01,\n",
              "          1.98882505e-01],\n",
              "        [-3.02927524e-01,  2.98172951e-01, -3.91260475e-01,\n",
              "         -8.39229524e-02, -2.70591348e-01,  1.31555513e-01,\n",
              "         -8.25162753e-02,  2.80209154e-01, -3.21406983e-02,\n",
              "         -2.32476056e-01],\n",
              "        [ 1.63355827e-01, -5.86252324e-02, -8.23878571e-02,\n",
              "         -1.71102107e-01,  1.55034527e-01,  4.39007650e-04,\n",
              "          5.94792627e-02, -6.04165792e-01,  1.31590411e-01,\n",
              "         -1.18819602e-01],\n",
              "        [ 3.16621184e-01, -1.67780340e-01, -1.63401163e-03,\n",
              "         -4.36045706e-01,  5.80523312e-01, -3.69784385e-01,\n",
              "         -1.10489540e-01,  3.54892552e-01, -1.89196542e-01,\n",
              "          3.12969834e-01],\n",
              "        [-3.75627398e-01,  1.25950933e-01, -6.38978034e-02,\n",
              "         -4.74125147e-01, -4.00167108e-02,  2.18198895e-02,\n",
              "          3.61225486e-01,  2.80965805e-01,  2.79035419e-02,\n",
              "          3.30109060e-01],\n",
              "        [-8.60728145e-01,  1.65027827e-02, -4.48972642e-01,\n",
              "         -4.40968007e-01,  3.25483352e-01, -7.00710535e-01,\n",
              "         -4.86250222e-01,  2.08007157e-01, -2.69547164e-01,\n",
              "          6.26827180e-01]], dtype=float32),\n",
              " array([ 5.1561999e-01,  8.4999895e-01, -3.6417175e-04,  0.0000000e+00,\n",
              "        -8.9826995e-01, -1.3077800e-01,  8.5395473e-01, -1.9862534e-01,\n",
              "         8.7618953e-01, -1.0362382e+00], dtype=float32),\n",
              " array([[ 0.2164486 ],\n",
              "        [ 0.18913639],\n",
              "        [ 0.32662764],\n",
              "        [-0.686273  ],\n",
              "        [-0.61875933],\n",
              "        [-5.594017  ],\n",
              "        [ 0.17681655],\n",
              "        [-2.7682822 ],\n",
              "        [ 0.45932287],\n",
              "        [-0.19321448]], dtype=float32),\n",
              " array([0.8887599], dtype=float32)]"
            ]
          },
          "metadata": {
            "tags": []
          },
          "execution_count": 11
        }
      ]
    },
    {
      "cell_type": "markdown",
      "metadata": {
        "id": "UbkK7pwRIEp7"
      },
      "source": [
        "# **아이리스 품종**"
      ]
    },
    {
      "cell_type": "markdown",
      "metadata": {
        "id": "-qmHi0o2_XtM"
      },
      "source": [
        "# 1.과거의 데이터를 준비합니다"
      ]
    },
    {
      "cell_type": "code",
      "metadata": {
        "id": "sHgNsVXa_dZX"
      },
      "source": [
        "import pandas as pd"
      ],
      "execution_count": 12,
      "outputs": []
    },
    {
      "cell_type": "code",
      "metadata": {
        "colab": {
          "base_uri": "https://localhost:8080/",
          "height": 204
        },
        "id": "2Q591jQt_j3S",
        "outputId": "c2a8cfe3-e2c2-430a-967d-6409d9165d00"
      },
      "source": [
        "아이리스=pd.read_csv('iris.csv')\n",
        "아이리스.head()"
      ],
      "execution_count": 18,
      "outputs": [
        {
          "output_type": "execute_result",
          "data": {
            "text/html": [
              "<div>\n",
              "<style scoped>\n",
              "    .dataframe tbody tr th:only-of-type {\n",
              "        vertical-align: middle;\n",
              "    }\n",
              "\n",
              "    .dataframe tbody tr th {\n",
              "        vertical-align: top;\n",
              "    }\n",
              "\n",
              "    .dataframe thead th {\n",
              "        text-align: right;\n",
              "    }\n",
              "</style>\n",
              "<table border=\"1\" class=\"dataframe\">\n",
              "  <thead>\n",
              "    <tr style=\"text-align: right;\">\n",
              "      <th></th>\n",
              "      <th>꽃잎길이</th>\n",
              "      <th>꽃잎폭</th>\n",
              "      <th>꽃받침길이</th>\n",
              "      <th>꽃받침폭</th>\n",
              "      <th>품종</th>\n",
              "    </tr>\n",
              "  </thead>\n",
              "  <tbody>\n",
              "    <tr>\n",
              "      <th>0</th>\n",
              "      <td>5.1</td>\n",
              "      <td>3.5</td>\n",
              "      <td>1.4</td>\n",
              "      <td>0.2</td>\n",
              "      <td>setosa</td>\n",
              "    </tr>\n",
              "    <tr>\n",
              "      <th>1</th>\n",
              "      <td>4.9</td>\n",
              "      <td>3.0</td>\n",
              "      <td>1.4</td>\n",
              "      <td>0.2</td>\n",
              "      <td>setosa</td>\n",
              "    </tr>\n",
              "    <tr>\n",
              "      <th>2</th>\n",
              "      <td>4.7</td>\n",
              "      <td>3.2</td>\n",
              "      <td>1.3</td>\n",
              "      <td>0.2</td>\n",
              "      <td>setosa</td>\n",
              "    </tr>\n",
              "    <tr>\n",
              "      <th>3</th>\n",
              "      <td>4.6</td>\n",
              "      <td>3.1</td>\n",
              "      <td>1.5</td>\n",
              "      <td>0.2</td>\n",
              "      <td>setosa</td>\n",
              "    </tr>\n",
              "    <tr>\n",
              "      <th>4</th>\n",
              "      <td>5.0</td>\n",
              "      <td>3.6</td>\n",
              "      <td>1.4</td>\n",
              "      <td>0.2</td>\n",
              "      <td>setosa</td>\n",
              "    </tr>\n",
              "  </tbody>\n",
              "</table>\n",
              "</div>"
            ],
            "text/plain": [
              "   꽃잎길이  꽃잎폭  꽃받침길이  꽃받침폭      품종\n",
              "0   5.1  3.5    1.4   0.2  setosa\n",
              "1   4.9  3.0    1.4   0.2  setosa\n",
              "2   4.7  3.2    1.3   0.2  setosa\n",
              "3   4.6  3.1    1.5   0.2  setosa\n",
              "4   5.0  3.6    1.4   0.2  setosa"
            ]
          },
          "metadata": {
            "tags": []
          },
          "execution_count": 18
        }
      ]
    },
    {
      "cell_type": "code",
      "metadata": {
        "colab": {
          "base_uri": "https://localhost:8080/",
          "height": 204
        },
        "id": "vAldScHDBuQG",
        "outputId": "33300ff2-bb63-443c-ff43-cc11a1a17b9b"
      },
      "source": [
        "아이리스=pd.get_dummies(아이리스)\n",
        "아이리스.head()"
      ],
      "execution_count": 19,
      "outputs": [
        {
          "output_type": "execute_result",
          "data": {
            "text/html": [
              "<div>\n",
              "<style scoped>\n",
              "    .dataframe tbody tr th:only-of-type {\n",
              "        vertical-align: middle;\n",
              "    }\n",
              "\n",
              "    .dataframe tbody tr th {\n",
              "        vertical-align: top;\n",
              "    }\n",
              "\n",
              "    .dataframe thead th {\n",
              "        text-align: right;\n",
              "    }\n",
              "</style>\n",
              "<table border=\"1\" class=\"dataframe\">\n",
              "  <thead>\n",
              "    <tr style=\"text-align: right;\">\n",
              "      <th></th>\n",
              "      <th>꽃잎길이</th>\n",
              "      <th>꽃잎폭</th>\n",
              "      <th>꽃받침길이</th>\n",
              "      <th>꽃받침폭</th>\n",
              "      <th>품종_setosa</th>\n",
              "      <th>품종_versicolor</th>\n",
              "      <th>품종_virginica</th>\n",
              "    </tr>\n",
              "  </thead>\n",
              "  <tbody>\n",
              "    <tr>\n",
              "      <th>0</th>\n",
              "      <td>5.1</td>\n",
              "      <td>3.5</td>\n",
              "      <td>1.4</td>\n",
              "      <td>0.2</td>\n",
              "      <td>1</td>\n",
              "      <td>0</td>\n",
              "      <td>0</td>\n",
              "    </tr>\n",
              "    <tr>\n",
              "      <th>1</th>\n",
              "      <td>4.9</td>\n",
              "      <td>3.0</td>\n",
              "      <td>1.4</td>\n",
              "      <td>0.2</td>\n",
              "      <td>1</td>\n",
              "      <td>0</td>\n",
              "      <td>0</td>\n",
              "    </tr>\n",
              "    <tr>\n",
              "      <th>2</th>\n",
              "      <td>4.7</td>\n",
              "      <td>3.2</td>\n",
              "      <td>1.3</td>\n",
              "      <td>0.2</td>\n",
              "      <td>1</td>\n",
              "      <td>0</td>\n",
              "      <td>0</td>\n",
              "    </tr>\n",
              "    <tr>\n",
              "      <th>3</th>\n",
              "      <td>4.6</td>\n",
              "      <td>3.1</td>\n",
              "      <td>1.5</td>\n",
              "      <td>0.2</td>\n",
              "      <td>1</td>\n",
              "      <td>0</td>\n",
              "      <td>0</td>\n",
              "    </tr>\n",
              "    <tr>\n",
              "      <th>4</th>\n",
              "      <td>5.0</td>\n",
              "      <td>3.6</td>\n",
              "      <td>1.4</td>\n",
              "      <td>0.2</td>\n",
              "      <td>1</td>\n",
              "      <td>0</td>\n",
              "      <td>0</td>\n",
              "    </tr>\n",
              "  </tbody>\n",
              "</table>\n",
              "</div>"
            ],
            "text/plain": [
              "   꽃잎길이  꽃잎폭  꽃받침길이  꽃받침폭  품종_setosa  품종_versicolor  품종_virginica\n",
              "0   5.1  3.5    1.4   0.2          1              0             0\n",
              "1   4.9  3.0    1.4   0.2          1              0             0\n",
              "2   4.7  3.2    1.3   0.2          1              0             0\n",
              "3   4.6  3.1    1.5   0.2          1              0             0\n",
              "4   5.0  3.6    1.4   0.2          1              0             0"
            ]
          },
          "metadata": {
            "tags": []
          },
          "execution_count": 19
        }
      ]
    },
    {
      "cell_type": "markdown",
      "metadata": {
        "id": "NfaSsFWCDq03"
      },
      "source": [
        "get_dummies는 원-핫 인코딩을 하는 방법이다."
      ]
    },
    {
      "cell_type": "markdown",
      "metadata": {
        "id": "nqsYX99FB1od"
      },
      "source": [
        "get_dummies를 통해서 품종을 컴퓨터가 알아서 3가지로 분류했다. 따라서 품종이 품종_setosa\t품종_versicolor\t품종_virginica로 나누어졌다."
      ]
    },
    {
      "cell_type": "code",
      "metadata": {
        "colab": {
          "base_uri": "https://localhost:8080/"
        },
        "id": "waee4Qru_j5h",
        "outputId": "fae00f38-441c-47c7-ae5e-ae06462be3df"
      },
      "source": [
        "독립=아이리스[['꽃잎길이','꽃잎폭','꽃받침길이','꽃받침폭']]\n",
        "종속=아이리스[['품종_setosa','품종_versicolor','품종_virginica']]\n",
        "print(독립.shape,종속.shape)"
      ],
      "execution_count": 20,
      "outputs": [
        {
          "output_type": "stream",
          "text": [
            "(150, 4) (150, 3)\n"
          ],
          "name": "stdout"
        }
      ]
    },
    {
      "cell_type": "markdown",
      "metadata": {
        "id": "Fb9b21KxAU_0"
      },
      "source": [
        "# 2.모델의 구조를 만듭시다"
      ]
    },
    {
      "cell_type": "code",
      "metadata": {
        "id": "o7WDvCoWAkJJ"
      },
      "source": [
        "import tensorflow as tf"
      ],
      "execution_count": 21,
      "outputs": []
    },
    {
      "cell_type": "code",
      "metadata": {
        "id": "vgkM-moqAUIx"
      },
      "source": [
        "X=tf.keras.layers.Input(shape=[4])\n",
        "H=tf.keras.layers.Dense(8,activation='swish')(X)\n",
        "H=tf.keras.layers.Dense(8,activation='swish')(H)\n",
        "H=tf.keras.layers.Dense(8,activation='swish')(H)\n",
        "Y=tf.keras.layers.Dense(3,activation='softmax')(H)\n",
        "model=tf.keras.models.Model(X,Y)\n",
        "model.compile(loss='categorical_crossentropy',metrics='accuracy')"
      ],
      "execution_count": 22,
      "outputs": []
    },
    {
      "cell_type": "markdown",
      "metadata": {
        "id": "P8lgT_ShJRjI"
      },
      "source": [
        "Hidden을 사용하면 더 정확한 값을 알 수 있다."
      ]
    },
    {
      "cell_type": "markdown",
      "metadata": {
        "id": "PgfBGMypC0Vy"
      },
      "source": [
        "구하고자 하는 값이 무엇이냐에 따라 loss를 다르게 둘 수 있다. 분류는 `loss='categorical_crossentropy'` 회귀는 `loss='mse'`이다."
      ]
    },
    {
      "cell_type": "markdown",
      "metadata": {
        "id": "rLb9uv-uDSqS"
      },
      "source": [
        "분류는 회귀랑 다르게 `metrisc='accuracy'`를 통해 정확도를 구할 수 있다."
      ]
    },
    {
      "cell_type": "markdown",
      "metadata": {
        "id": "ji86j1bQDc1i"
      },
      "source": [
        "분류는 회귀보다 어렵다."
      ]
    },
    {
      "cell_type": "markdown",
      "metadata": {
        "id": "qhe5wzhrDJr8"
      },
      "source": [
        "종속변수는 4개이고 독립변수는 3개라서 shape=4이고 Dense는 3개이다."
      ]
    },
    {
      "cell_type": "markdown",
      "metadata": {
        "id": "lXZs1PlxApxe"
      },
      "source": [
        "# 3.데이터로 모델을 학습(FIT)합니다"
      ]
    },
    {
      "cell_type": "code",
      "metadata": {
        "colab": {
          "base_uri": "https://localhost:8080/"
        },
        "id": "7xdmBgDoArBD",
        "outputId": "19cfafc3-4ea2-45ba-a09c-1fc8e3b67f51"
      },
      "source": [
        "model.fit(독립,종속,epochs=100)"
      ],
      "execution_count": 23,
      "outputs": [
        {
          "output_type": "stream",
          "text": [
            "Epoch 1/100\n",
            "5/5 [==============================] - 1s 3ms/step - loss: 1.3651 - accuracy: 0.3467\n",
            "Epoch 2/100\n",
            "5/5 [==============================] - 0s 3ms/step - loss: 1.2284 - accuracy: 0.5133\n",
            "Epoch 3/100\n",
            "5/5 [==============================] - 0s 3ms/step - loss: 1.1703 - accuracy: 0.6400\n",
            "Epoch 4/100\n",
            "5/5 [==============================] - 0s 3ms/step - loss: 1.1325 - accuracy: 0.6467\n",
            "Epoch 5/100\n",
            "5/5 [==============================] - 0s 4ms/step - loss: 1.1038 - accuracy: 0.6533\n",
            "Epoch 6/100\n",
            "5/5 [==============================] - 0s 4ms/step - loss: 1.0801 - accuracy: 0.6133\n",
            "Epoch 7/100\n",
            "5/5 [==============================] - 0s 3ms/step - loss: 1.0575 - accuracy: 0.6200\n",
            "Epoch 8/100\n",
            "5/5 [==============================] - 0s 4ms/step - loss: 1.0369 - accuracy: 0.5667\n",
            "Epoch 9/100\n",
            "5/5 [==============================] - 0s 4ms/step - loss: 1.0115 - accuracy: 0.6000\n",
            "Epoch 10/100\n",
            "5/5 [==============================] - 0s 2ms/step - loss: 0.9812 - accuracy: 0.5267\n",
            "Epoch 11/100\n",
            "5/5 [==============================] - 0s 4ms/step - loss: 0.9453 - accuracy: 0.5133\n",
            "Epoch 12/100\n",
            "5/5 [==============================] - 0s 3ms/step - loss: 0.9071 - accuracy: 0.4867\n",
            "Epoch 13/100\n",
            "5/5 [==============================] - 0s 3ms/step - loss: 0.8648 - accuracy: 0.5267\n",
            "Epoch 14/100\n",
            "5/5 [==============================] - 0s 3ms/step - loss: 0.8262 - accuracy: 0.5733\n",
            "Epoch 15/100\n",
            "5/5 [==============================] - 0s 4ms/step - loss: 0.7904 - accuracy: 0.6333\n",
            "Epoch 16/100\n",
            "5/5 [==============================] - 0s 4ms/step - loss: 0.7551 - accuracy: 0.6667\n",
            "Epoch 17/100\n",
            "5/5 [==============================] - 0s 4ms/step - loss: 0.7228 - accuracy: 0.6733\n",
            "Epoch 18/100\n",
            "5/5 [==============================] - 0s 4ms/step - loss: 0.6925 - accuracy: 0.6733\n",
            "Epoch 19/100\n",
            "5/5 [==============================] - 0s 4ms/step - loss: 0.6668 - accuracy: 0.8067\n",
            "Epoch 20/100\n",
            "5/5 [==============================] - 0s 4ms/step - loss: 0.6370 - accuracy: 0.7133\n",
            "Epoch 21/100\n",
            "5/5 [==============================] - 0s 4ms/step - loss: 0.6151 - accuracy: 0.7067\n",
            "Epoch 22/100\n",
            "5/5 [==============================] - 0s 3ms/step - loss: 0.5908 - accuracy: 0.8200\n",
            "Epoch 23/100\n",
            "5/5 [==============================] - 0s 3ms/step - loss: 0.5687 - accuracy: 0.8200\n",
            "Epoch 24/100\n",
            "5/5 [==============================] - 0s 3ms/step - loss: 0.5498 - accuracy: 0.9067\n",
            "Epoch 25/100\n",
            "5/5 [==============================] - 0s 5ms/step - loss: 0.5308 - accuracy: 0.8867\n",
            "Epoch 26/100\n",
            "5/5 [==============================] - 0s 4ms/step - loss: 0.5133 - accuracy: 0.9400\n",
            "Epoch 27/100\n",
            "5/5 [==============================] - 0s 5ms/step - loss: 0.4986 - accuracy: 0.8400\n",
            "Epoch 28/100\n",
            "5/5 [==============================] - 0s 4ms/step - loss: 0.4826 - accuracy: 0.8867\n",
            "Epoch 29/100\n",
            "5/5 [==============================] - 0s 4ms/step - loss: 0.4670 - accuracy: 0.9267\n",
            "Epoch 30/100\n",
            "5/5 [==============================] - 0s 3ms/step - loss: 0.4536 - accuracy: 0.8933\n",
            "Epoch 31/100\n",
            "5/5 [==============================] - 0s 3ms/step - loss: 0.4405 - accuracy: 0.9400\n",
            "Epoch 32/100\n",
            "5/5 [==============================] - 0s 3ms/step - loss: 0.4310 - accuracy: 0.9467\n",
            "Epoch 33/100\n",
            "5/5 [==============================] - 0s 6ms/step - loss: 0.4155 - accuracy: 0.9533\n",
            "Epoch 34/100\n",
            "5/5 [==============================] - 0s 3ms/step - loss: 0.4029 - accuracy: 0.9667\n",
            "Epoch 35/100\n",
            "5/5 [==============================] - 0s 5ms/step - loss: 0.3935 - accuracy: 0.9667\n",
            "Epoch 36/100\n",
            "5/5 [==============================] - 0s 3ms/step - loss: 0.3832 - accuracy: 0.9533\n",
            "Epoch 37/100\n",
            "5/5 [==============================] - 0s 4ms/step - loss: 0.3707 - accuracy: 0.9867\n",
            "Epoch 38/100\n",
            "5/5 [==============================] - 0s 4ms/step - loss: 0.3610 - accuracy: 0.9667\n",
            "Epoch 39/100\n",
            "5/5 [==============================] - 0s 4ms/step - loss: 0.3528 - accuracy: 0.9733\n",
            "Epoch 40/100\n",
            "5/5 [==============================] - 0s 4ms/step - loss: 0.3439 - accuracy: 0.9733\n",
            "Epoch 41/100\n",
            "5/5 [==============================] - 0s 6ms/step - loss: 0.3350 - accuracy: 0.9667\n",
            "Epoch 42/100\n",
            "5/5 [==============================] - 0s 5ms/step - loss: 0.3295 - accuracy: 0.9667\n",
            "Epoch 43/100\n",
            "5/5 [==============================] - 0s 4ms/step - loss: 0.3167 - accuracy: 0.9867\n",
            "Epoch 44/100\n",
            "5/5 [==============================] - 0s 7ms/step - loss: 0.3073 - accuracy: 0.9800\n",
            "Epoch 45/100\n",
            "5/5 [==============================] - 0s 3ms/step - loss: 0.3039 - accuracy: 0.9800\n",
            "Epoch 46/100\n",
            "5/5 [==============================] - 0s 7ms/step - loss: 0.2998 - accuracy: 0.9733\n",
            "Epoch 47/100\n",
            "5/5 [==============================] - 0s 4ms/step - loss: 0.2842 - accuracy: 0.9800\n",
            "Epoch 48/100\n",
            "5/5 [==============================] - 0s 5ms/step - loss: 0.2788 - accuracy: 0.9800\n",
            "Epoch 49/100\n",
            "5/5 [==============================] - 0s 7ms/step - loss: 0.2714 - accuracy: 0.9733\n",
            "Epoch 50/100\n",
            "5/5 [==============================] - 0s 6ms/step - loss: 0.2633 - accuracy: 0.9867\n",
            "Epoch 51/100\n",
            "5/5 [==============================] - 0s 7ms/step - loss: 0.2540 - accuracy: 0.9867\n",
            "Epoch 52/100\n",
            "5/5 [==============================] - 0s 7ms/step - loss: 0.2499 - accuracy: 0.9667\n",
            "Epoch 53/100\n",
            "5/5 [==============================] - 0s 8ms/step - loss: 0.2398 - accuracy: 0.9800\n",
            "Epoch 54/100\n",
            "5/5 [==============================] - 0s 4ms/step - loss: 0.2337 - accuracy: 0.9667\n",
            "Epoch 55/100\n",
            "5/5 [==============================] - 0s 6ms/step - loss: 0.2248 - accuracy: 0.9733\n",
            "Epoch 56/100\n",
            "5/5 [==============================] - 0s 3ms/step - loss: 0.2239 - accuracy: 0.9733\n",
            "Epoch 57/100\n",
            "5/5 [==============================] - 0s 4ms/step - loss: 0.2129 - accuracy: 0.9733\n",
            "Epoch 58/100\n",
            "5/5 [==============================] - 0s 5ms/step - loss: 0.2090 - accuracy: 0.9733\n",
            "Epoch 59/100\n",
            "5/5 [==============================] - 0s 4ms/step - loss: 0.1996 - accuracy: 0.9800\n",
            "Epoch 60/100\n",
            "5/5 [==============================] - 0s 3ms/step - loss: 0.1991 - accuracy: 0.9667\n",
            "Epoch 61/100\n",
            "5/5 [==============================] - 0s 3ms/step - loss: 0.1897 - accuracy: 0.9867\n",
            "Epoch 62/100\n",
            "5/5 [==============================] - 0s 4ms/step - loss: 0.1847 - accuracy: 0.9733\n",
            "Epoch 63/100\n",
            "5/5 [==============================] - 0s 4ms/step - loss: 0.1777 - accuracy: 0.9800\n",
            "Epoch 64/100\n",
            "5/5 [==============================] - 0s 4ms/step - loss: 0.1738 - accuracy: 0.9867\n",
            "Epoch 65/100\n",
            "5/5 [==============================] - 0s 4ms/step - loss: 0.1665 - accuracy: 0.9867\n",
            "Epoch 66/100\n",
            "5/5 [==============================] - 0s 5ms/step - loss: 0.1604 - accuracy: 0.9867\n",
            "Epoch 67/100\n",
            "5/5 [==============================] - 0s 5ms/step - loss: 0.1615 - accuracy: 0.9667\n",
            "Epoch 68/100\n",
            "5/5 [==============================] - 0s 4ms/step - loss: 0.1535 - accuracy: 0.9800\n",
            "Epoch 69/100\n",
            "5/5 [==============================] - 0s 4ms/step - loss: 0.1550 - accuracy: 0.9733\n",
            "Epoch 70/100\n",
            "5/5 [==============================] - 0s 4ms/step - loss: 0.1457 - accuracy: 0.9867\n",
            "Epoch 71/100\n",
            "5/5 [==============================] - 0s 4ms/step - loss: 0.1419 - accuracy: 0.9867\n",
            "Epoch 72/100\n",
            "5/5 [==============================] - 0s 4ms/step - loss: 0.1426 - accuracy: 0.9733\n",
            "Epoch 73/100\n",
            "5/5 [==============================] - 0s 6ms/step - loss: 0.1369 - accuracy: 0.9733\n",
            "Epoch 74/100\n",
            "5/5 [==============================] - 0s 7ms/step - loss: 0.1345 - accuracy: 0.9800\n",
            "Epoch 75/100\n",
            "5/5 [==============================] - 0s 5ms/step - loss: 0.1315 - accuracy: 0.9800\n",
            "Epoch 76/100\n",
            "5/5 [==============================] - 0s 4ms/step - loss: 0.1287 - accuracy: 0.9867\n",
            "Epoch 77/100\n",
            "5/5 [==============================] - 0s 5ms/step - loss: 0.1231 - accuracy: 0.9800\n",
            "Epoch 78/100\n",
            "5/5 [==============================] - 0s 6ms/step - loss: 0.1218 - accuracy: 0.9867\n",
            "Epoch 79/100\n",
            "5/5 [==============================] - 0s 3ms/step - loss: 0.1163 - accuracy: 0.9733\n",
            "Epoch 80/100\n",
            "5/5 [==============================] - 0s 3ms/step - loss: 0.1214 - accuracy: 0.9800\n",
            "Epoch 81/100\n",
            "5/5 [==============================] - 0s 3ms/step - loss: 0.1133 - accuracy: 0.9800\n",
            "Epoch 82/100\n",
            "5/5 [==============================] - 0s 3ms/step - loss: 0.1107 - accuracy: 0.9800\n",
            "Epoch 83/100\n",
            "5/5 [==============================] - 0s 4ms/step - loss: 0.1148 - accuracy: 0.9867\n",
            "Epoch 84/100\n",
            "5/5 [==============================] - 0s 4ms/step - loss: 0.1089 - accuracy: 0.9733\n",
            "Epoch 85/100\n",
            "5/5 [==============================] - 0s 5ms/step - loss: 0.1075 - accuracy: 0.9800\n",
            "Epoch 86/100\n",
            "5/5 [==============================] - 0s 5ms/step - loss: 0.1080 - accuracy: 0.9733\n",
            "Epoch 87/100\n",
            "5/5 [==============================] - 0s 6ms/step - loss: 0.1086 - accuracy: 0.9800\n",
            "Epoch 88/100\n",
            "5/5 [==============================] - 0s 4ms/step - loss: 0.1042 - accuracy: 0.9733\n",
            "Epoch 89/100\n",
            "5/5 [==============================] - 0s 3ms/step - loss: 0.0989 - accuracy: 0.9867\n",
            "Epoch 90/100\n",
            "5/5 [==============================] - 0s 6ms/step - loss: 0.1016 - accuracy: 0.9800\n",
            "Epoch 91/100\n",
            "5/5 [==============================] - 0s 5ms/step - loss: 0.0990 - accuracy: 0.9800\n",
            "Epoch 92/100\n",
            "5/5 [==============================] - 0s 4ms/step - loss: 0.0948 - accuracy: 0.9800\n",
            "Epoch 93/100\n",
            "5/5 [==============================] - 0s 4ms/step - loss: 0.1043 - accuracy: 0.9800\n",
            "Epoch 94/100\n",
            "5/5 [==============================] - 0s 4ms/step - loss: 0.0927 - accuracy: 0.9733\n",
            "Epoch 95/100\n",
            "5/5 [==============================] - 0s 6ms/step - loss: 0.0953 - accuracy: 0.9800\n",
            "Epoch 96/100\n",
            "5/5 [==============================] - 0s 5ms/step - loss: 0.0949 - accuracy: 0.9867\n",
            "Epoch 97/100\n",
            "5/5 [==============================] - 0s 5ms/step - loss: 0.0908 - accuracy: 0.9733\n",
            "Epoch 98/100\n",
            "5/5 [==============================] - 0s 7ms/step - loss: 0.0935 - accuracy: 0.9867\n",
            "Epoch 99/100\n",
            "5/5 [==============================] - 0s 6ms/step - loss: 0.0941 - accuracy: 0.9733\n",
            "Epoch 100/100\n",
            "5/5 [==============================] - 0s 5ms/step - loss: 0.0893 - accuracy: 0.9867\n"
          ],
          "name": "stdout"
        },
        {
          "output_type": "execute_result",
          "data": {
            "text/plain": [
              "<tensorflow.python.keras.callbacks.History at 0x7f5b73cab610>"
            ]
          },
          "metadata": {
            "tags": []
          },
          "execution_count": 23
        }
      ]
    },
    {
      "cell_type": "markdown",
      "metadata": {
        "id": "bX6DoM3PAuXs"
      },
      "source": [
        "# 4.모델을 이용합니다"
      ]
    },
    {
      "cell_type": "code",
      "metadata": {
        "colab": {
          "base_uri": "https://localhost:8080/"
        },
        "id": "eIGDqIqtAwbD",
        "outputId": "9e1ca98f-d0fd-4dfc-e392-310c9332bb4c"
      },
      "source": [
        "print(model.predict(독립[0:5]))"
      ],
      "execution_count": 24,
      "outputs": [
        {
          "output_type": "stream",
          "text": [
            "[[9.9889392e-01 1.1057670e-03 3.3826075e-07]\n",
            " [9.9810094e-01 1.8982588e-03 8.3449964e-07]\n",
            " [9.9810314e-01 1.8958352e-03 9.6102121e-07]\n",
            " [9.9657506e-01 3.4230652e-03 1.8669482e-06]\n",
            " [9.9879116e-01 1.2084906e-03 3.9354813e-07]]\n"
          ],
          "name": "stdout"
        }
      ]
    },
    {
      "cell_type": "markdown",
      "metadata": {
        "id": "u9dmE0o7E45r"
      },
      "source": [
        "예상값으로 가장 높은 값을 가진 1번이 정답이다."
      ]
    },
    {
      "cell_type": "code",
      "metadata": {
        "colab": {
          "base_uri": "https://localhost:8080/"
        },
        "id": "Cs6K7J4FEru1",
        "outputId": "f1537ad7-1c7b-4be1-8928-e7e7ec541959"
      },
      "source": [
        "print([종속[0:5]])"
      ],
      "execution_count": 25,
      "outputs": [
        {
          "output_type": "stream",
          "text": [
            "[   품종_setosa  품종_versicolor  품종_virginica\n",
            "0          1              0             0\n",
            "1          1              0             0\n",
            "2          1              0             0\n",
            "3          1              0             0\n",
            "4          1              0             0]\n"
          ],
          "name": "stdout"
        }
      ]
    },
    {
      "cell_type": "markdown",
      "metadata": {
        "id": "H-MK-VlHE9gQ"
      },
      "source": [
        "실제값과 비교해본 결과 예상값이 정답이다."
      ]
    },
    {
      "cell_type": "code",
      "metadata": {
        "colab": {
          "base_uri": "https://localhost:8080/"
        },
        "id": "Ha40O9leEwjm",
        "outputId": "d1caa550-3f41-4fd7-ee98-7e15db1e49ce"
      },
      "source": [
        "model.get_weights()"
      ],
      "execution_count": 26,
      "outputs": [
        {
          "output_type": "execute_result",
          "data": {
            "text/plain": [
              "[array([[ 0.4794371 , -0.31855568,  0.17361635,  0.21320808,  0.7283301 ,\n",
              "         -0.26719555,  0.09601051, -0.37025878],\n",
              "        [-0.37284845, -0.5459526 , -0.4292771 ,  0.6924852 ,  0.3188045 ,\n",
              "          0.19953777,  0.36687964,  0.36090475],\n",
              "        [-0.10510007, -0.02277753, -0.49177897,  0.22820821, -0.72687477,\n",
              "          0.14266019, -0.23808423, -0.13536039],\n",
              "        [ 0.68921995,  0.3155265 , -0.20134814,  0.9402136 , -0.04913846,\n",
              "          0.6640893 ,  0.03938363, -0.5265416 ]], dtype=float32),\n",
              " array([ 0.06360038, -0.09358461,  0.2564335 ,  0.05515893,  0.18189338,\n",
              "         0.01209658, -0.11035939,  0.1924719 ], dtype=float32),\n",
              " array([[ 0.3189563 , -0.4212261 , -0.11147823, -0.2807619 ,  0.45436093,\n",
              "          0.78701824,  0.4866682 , -0.08224535],\n",
              "        [ 0.09541955, -0.6047042 ,  0.577375  , -0.32869047, -0.5890087 ,\n",
              "          0.46610373, -0.5493901 ,  0.09459279],\n",
              "        [-0.21367627,  0.21156862,  0.5641203 ,  0.17712606,  0.9243365 ,\n",
              "          0.3745517 , -0.6814451 , -0.2938405 ],\n",
              "        [ 0.7055816 , -0.4848607 ,  0.27284318, -0.41547886,  0.30570498,\n",
              "          0.606946  ,  0.10336081,  0.19660272],\n",
              "        [ 0.62852615,  0.80691165, -0.20892024,  0.37748483, -0.5225845 ,\n",
              "         -0.69358647,  0.7597504 , -0.17910244],\n",
              "        [-0.8476273 , -0.4295689 ,  0.842072  ,  0.00512831, -0.19704853,\n",
              "          0.01007153, -0.36157197,  0.5087567 ],\n",
              "        [-0.2927103 ,  0.8248996 , -0.04779007, -0.09124501, -0.10488521,\n",
              "         -0.5645183 ,  0.30226615,  0.28356525],\n",
              "        [-0.36246562, -0.8857009 ,  0.35107058,  0.01225777,  0.8340262 ,\n",
              "          0.2473607 ,  0.2686846 ,  0.33124837]], dtype=float32),\n",
              " array([ 0.19572176,  0.18619935, -0.09276534,  0.20202236, -0.04932778,\n",
              "         0.01897012,  0.10619289,  0.03064269], dtype=float32),\n",
              " array([[-0.22132963, -0.44308448,  0.22006275,  0.51424557,  0.06013146,\n",
              "          0.7025039 ,  0.34284556,  0.12340335],\n",
              "        [ 0.0654126 ,  0.11639821, -0.23120007,  0.06377668, -0.81987745,\n",
              "         -0.48212025, -0.80104333, -0.155315  ],\n",
              "        [ 0.19747327,  0.5418567 , -0.24780199, -0.08658028,  0.07782274,\n",
              "         -0.8079471 ,  0.12780295,  0.41591084],\n",
              "        [-0.15520151,  0.49346587,  0.12664346, -0.40258995, -0.6708668 ,\n",
              "         -0.6165723 , -0.6310902 ,  0.39660266],\n",
              "        [ 0.04341388, -0.2104334 ,  0.85182446, -0.00794371, -0.08396342,\n",
              "         -0.8421627 ,  0.47206685, -0.00932556],\n",
              "        [ 0.7344419 ,  0.06814855,  0.21283238, -0.64916253, -0.11876325,\n",
              "         -0.3639712 ,  0.9824767 ,  0.01720881],\n",
              "        [-0.06750114, -0.02275444, -0.04977433,  0.39593884,  0.24897514,\n",
              "          0.2792971 , -0.29201564,  0.43420136],\n",
              "        [ 0.493571  ,  0.0703701 ,  0.08324053, -0.82086986,  0.35824198,\n",
              "          0.20355116, -0.00337131,  0.39725885]], dtype=float32),\n",
              " array([ 0.15705855, -0.01007371, -0.1480243 ,  0.26103443,  0.03206868,\n",
              "         0.15488161,  0.22700986, -0.03789179], dtype=float32),\n",
              " array([[-1.0659871 , -0.38709372, -0.08853661],\n",
              "        [-0.7196791 , -0.27010432, -0.3643133 ],\n",
              "        [-1.0347285 , -0.5255474 , -0.10785997],\n",
              "        [ 0.7248281 , -0.0107244 , -0.35489655],\n",
              "        [-0.97876954,  0.8414702 , -0.6396167 ],\n",
              "        [ 0.99035114,  0.805638  , -0.916758  ],\n",
              "        [-1.0844046 ,  0.3733296 ,  0.42104247],\n",
              "        [ 0.12351407, -0.59947145,  0.5689521 ]], dtype=float32),\n",
              " array([ 0.18989864,  0.00349773, -0.08318263], dtype=float32)]"
            ]
          },
          "metadata": {
            "tags": []
          },
          "execution_count": 26
        }
      ]
    },
    {
      "cell_type": "markdown",
      "metadata": {
        "id": "wcOTF31JFCrF"
      },
      "source": [
        "모델에 가중치를 얼마나 넣었는지 확인하는 과정이다."
      ]
    }
  ]
}