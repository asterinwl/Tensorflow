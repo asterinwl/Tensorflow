{
  "nbformat": 4,
  "nbformat_minor": 0,
  "metadata": {
    "colab": {
      "name": "image_use_my_image.ipynb",
      "provenance": [],
      "authorship_tag": "ABX9TyO6gJx/Q0vvWZAkm631ykMy",
      "include_colab_link": true
    },
    "kernelspec": {
      "name": "python3",
      "display_name": "Python 3"
    },
    "language_info": {
      "name": "python"
    }
  },
  "cells": [
    {
      "cell_type": "markdown",
      "metadata": {
        "id": "view-in-github",
        "colab_type": "text"
      },
      "source": [
        "<a href=\"https://colab.research.google.com/github/asterinwl/Tensorflow/blob/master/image_use_my_image.ipynb\" target=\"_parent\"><img src=\"https://colab.research.google.com/assets/colab-badge.svg\" alt=\"Open In Colab\"/></a>"
      ]
    },
    {
      "cell_type": "code",
      "metadata": {
        "id": "P7392qX0ypSZ"
      },
      "source": [
        "!wget -q http://raw.githubusercontent.com/blackdew/tensorflow1/master/csv/notMNIST_small.tar.gz\n",
        "!tar -xzf notMNIST_small.tar.gz"
      ],
      "execution_count": 1,
      "outputs": []
    },
    {
      "cell_type": "code",
      "metadata": {
        "colab": {
          "base_uri": "https://localhost:8080/"
        },
        "id": "jh8QO5gSzMQY",
        "outputId": "c53539e6-7dca-442e-db61-5b44167f8a4b"
      },
      "source": [
        "import glob\n",
        "import numpy as np\n",
        "import pandas as pd\n",
        "import matplotlib.pyplot as plt\n",
        "\n",
        "paths=glob.glob('./notMNIST_small/*/*.png')\n",
        "paths=np.random.permutation(paths)\n",
        "독립=np.array([plt.imread(paths[i]) for i in range(len(paths))])\n",
        "종속=np.array([paths[i].split('/')[2] for i in range(len(paths))])\n",
        "print(독립.shape,종속.shape)"
      ],
      "execution_count": 2,
      "outputs": [
        {
          "output_type": "stream",
          "text": [
            "(18724, 28, 28) (18724,)\n"
          ],
          "name": "stdout"
        }
      ]
    },
    {
      "cell_type": "code",
      "metadata": {
        "colab": {
          "base_uri": "https://localhost:8080/"
        },
        "id": "Jou2-wmF04eq",
        "outputId": "c33f059f-de4a-4970-ee46-6207d861cabe"
      },
      "source": [
        "독립=독립.reshape(18724,28,28,1)\n",
        "종속=pd.get_dummies(종속)\n",
        "print(독립.shape,종속.shape)"
      ],
      "execution_count": 3,
      "outputs": [
        {
          "output_type": "stream",
          "text": [
            "(18724, 28, 28, 1) (18724, 10)\n"
          ],
          "name": "stdout"
        }
      ]
    },
    {
      "cell_type": "code",
      "metadata": {
        "id": "0IhLSk_q0Wxr"
      },
      "source": [
        "import tensorflow as tf\n",
        "\n",
        "X=tf.keras.layers.Input(shape=[28,28,1])\n",
        "\n",
        "H=tf.keras.layers.Conv2D(6,kernel_size=5,padding='same',activation='swish')(X)\n",
        "H=tf.keras.layers.MaxPool2D()(H)\n",
        "\n",
        "H=tf.keras.layers.Conv2D(16,kernel_size=5,activation='swish')(H)     \n",
        "H=tf.keras.layers.MaxPool2D()(H)  \n",
        "\n",
        "H=tf.keras.layers.Flatten()(H)\n",
        "H=tf.keras.layers.Dense(120,activation='swish')(H)\n",
        "H=tf.keras.layers.Dense(84,activation='swish')(H)\n",
        "Y=tf.keras.layers.Dense(10,activation='softmax')(H)\n",
        "\n",
        "model=tf.keras.models.Model(X,Y)\n",
        "model.compile(loss='categorical_crossentropy',metrics='accuracy')"
      ],
      "execution_count": 5,
      "outputs": []
    },
    {
      "cell_type": "code",
      "metadata": {
        "colab": {
          "base_uri": "https://localhost:8080/"
        },
        "id": "P7hi8UvT1d0W",
        "outputId": "d87510cc-ea85-4a21-9d22-e9b5300f8198"
      },
      "source": [
        "model.fit(독립,종속,epochs=10)"
      ],
      "execution_count": 6,
      "outputs": [
        {
          "output_type": "stream",
          "text": [
            "Epoch 1/10\n",
            "586/586 [==============================] - 15s 23ms/step - loss: 0.5007 - accuracy: 0.8576\n",
            "Epoch 2/10\n",
            "586/586 [==============================] - 14s 23ms/step - loss: 0.2723 - accuracy: 0.9185\n",
            "Epoch 3/10\n",
            "586/586 [==============================] - 14s 24ms/step - loss: 0.2115 - accuracy: 0.9358\n",
            "Epoch 4/10\n",
            "586/586 [==============================] - 14s 24ms/step - loss: 0.1746 - accuracy: 0.9464\n",
            "Epoch 5/10\n",
            "586/586 [==============================] - 14s 23ms/step - loss: 0.1437 - accuracy: 0.9550\n",
            "Epoch 6/10\n",
            "586/586 [==============================] - 14s 23ms/step - loss: 0.1198 - accuracy: 0.9629\n",
            "Epoch 7/10\n",
            "586/586 [==============================] - 14s 23ms/step - loss: 0.0985 - accuracy: 0.9684\n",
            "Epoch 8/10\n",
            "586/586 [==============================] - 14s 23ms/step - loss: 0.0813 - accuracy: 0.9735\n",
            "Epoch 9/10\n",
            "586/586 [==============================] - 14s 23ms/step - loss: 0.0649 - accuracy: 0.9794\n",
            "Epoch 10/10\n",
            "586/586 [==============================] - 14s 23ms/step - loss: 0.0548 - accuracy: 0.9816\n"
          ],
          "name": "stdout"
        },
        {
          "output_type": "execute_result",
          "data": {
            "text/plain": [
              "<tensorflow.python.keras.callbacks.History at 0x7fd1a97951d0>"
            ]
          },
          "metadata": {
            "tags": []
          },
          "execution_count": 6
        }
      ]
    }
  ]
}