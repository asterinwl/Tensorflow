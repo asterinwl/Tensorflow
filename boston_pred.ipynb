{
  "nbformat": 4,
  "nbformat_minor": 0,
  "metadata": {
    "colab": {
      "name": "boston_pred.ipynb",
      "provenance": [],
      "authorship_tag": "ABX9TyMwnRgyLcn/JzXVrYdMJ/7K",
      "include_colab_link": true
    },
    "kernelspec": {
      "name": "python3",
      "display_name": "Python 3"
    },
    "language_info": {
      "name": "python"
    }
  },
  "cells": [
    {
      "cell_type": "markdown",
      "metadata": {
        "id": "view-in-github",
        "colab_type": "text"
      },
      "source": [
        "<a href=\"https://colab.research.google.com/github/asterinwl/Tensorflow/blob/master/boston_pred.ipynb\" target=\"_parent\"><img src=\"https://colab.research.google.com/assets/colab-badge.svg\" alt=\"Open In Colab\"/></a>"
      ]
    },
    {
      "cell_type": "markdown",
      "metadata": {
        "id": "36xJG47Lwoad"
      },
      "source": [
        " # 1.과거의 데이터를 준비합니다"
      ]
    },
    {
      "cell_type": "code",
      "metadata": {
        "id": "sa8xFEG4wK2J"
      },
      "source": [
        "import pandas as pd"
      ],
      "execution_count": 3,
      "outputs": []
    },
    {
      "cell_type": "code",
      "metadata": {
        "colab": {
          "base_uri": "https://localhost:8080/",
          "height": 204
        },
        "id": "FYL48H4Hw8Po",
        "outputId": "28bca506-186d-4355-f590-6821417f5264"
      },
      "source": [
        "보스턴=pd.read_csv('boston.csv')\n",
        "보스턴.head()"
      ],
      "execution_count": 4,
      "outputs": [
        {
          "output_type": "execute_result",
          "data": {
            "text/html": [
              "<div>\n",
              "<style scoped>\n",
              "    .dataframe tbody tr th:only-of-type {\n",
              "        vertical-align: middle;\n",
              "    }\n",
              "\n",
              "    .dataframe tbody tr th {\n",
              "        vertical-align: top;\n",
              "    }\n",
              "\n",
              "    .dataframe thead th {\n",
              "        text-align: right;\n",
              "    }\n",
              "</style>\n",
              "<table border=\"1\" class=\"dataframe\">\n",
              "  <thead>\n",
              "    <tr style=\"text-align: right;\">\n",
              "      <th></th>\n",
              "      <th>crim</th>\n",
              "      <th>zn</th>\n",
              "      <th>indus</th>\n",
              "      <th>chas</th>\n",
              "      <th>nox</th>\n",
              "      <th>rm</th>\n",
              "      <th>age</th>\n",
              "      <th>dis</th>\n",
              "      <th>rad</th>\n",
              "      <th>tax</th>\n",
              "      <th>ptratio</th>\n",
              "      <th>b</th>\n",
              "      <th>lstat</th>\n",
              "      <th>medv</th>\n",
              "    </tr>\n",
              "  </thead>\n",
              "  <tbody>\n",
              "    <tr>\n",
              "      <th>0</th>\n",
              "      <td>0.00632</td>\n",
              "      <td>18.0</td>\n",
              "      <td>2.31</td>\n",
              "      <td>0</td>\n",
              "      <td>0.538</td>\n",
              "      <td>6.575</td>\n",
              "      <td>65.2</td>\n",
              "      <td>4.0900</td>\n",
              "      <td>1</td>\n",
              "      <td>296</td>\n",
              "      <td>15.3</td>\n",
              "      <td>396.90</td>\n",
              "      <td>4.98</td>\n",
              "      <td>24.0</td>\n",
              "    </tr>\n",
              "    <tr>\n",
              "      <th>1</th>\n",
              "      <td>0.02731</td>\n",
              "      <td>0.0</td>\n",
              "      <td>7.07</td>\n",
              "      <td>0</td>\n",
              "      <td>0.469</td>\n",
              "      <td>6.421</td>\n",
              "      <td>78.9</td>\n",
              "      <td>4.9671</td>\n",
              "      <td>2</td>\n",
              "      <td>242</td>\n",
              "      <td>17.8</td>\n",
              "      <td>396.90</td>\n",
              "      <td>9.14</td>\n",
              "      <td>21.6</td>\n",
              "    </tr>\n",
              "    <tr>\n",
              "      <th>2</th>\n",
              "      <td>0.02729</td>\n",
              "      <td>0.0</td>\n",
              "      <td>7.07</td>\n",
              "      <td>0</td>\n",
              "      <td>0.469</td>\n",
              "      <td>7.185</td>\n",
              "      <td>61.1</td>\n",
              "      <td>4.9671</td>\n",
              "      <td>2</td>\n",
              "      <td>242</td>\n",
              "      <td>17.8</td>\n",
              "      <td>392.83</td>\n",
              "      <td>4.03</td>\n",
              "      <td>34.7</td>\n",
              "    </tr>\n",
              "    <tr>\n",
              "      <th>3</th>\n",
              "      <td>0.03237</td>\n",
              "      <td>0.0</td>\n",
              "      <td>2.18</td>\n",
              "      <td>0</td>\n",
              "      <td>0.458</td>\n",
              "      <td>6.998</td>\n",
              "      <td>45.8</td>\n",
              "      <td>6.0622</td>\n",
              "      <td>3</td>\n",
              "      <td>222</td>\n",
              "      <td>18.7</td>\n",
              "      <td>394.63</td>\n",
              "      <td>2.94</td>\n",
              "      <td>33.4</td>\n",
              "    </tr>\n",
              "    <tr>\n",
              "      <th>4</th>\n",
              "      <td>0.06905</td>\n",
              "      <td>0.0</td>\n",
              "      <td>2.18</td>\n",
              "      <td>0</td>\n",
              "      <td>0.458</td>\n",
              "      <td>7.147</td>\n",
              "      <td>54.2</td>\n",
              "      <td>6.0622</td>\n",
              "      <td>3</td>\n",
              "      <td>222</td>\n",
              "      <td>18.7</td>\n",
              "      <td>396.90</td>\n",
              "      <td>5.33</td>\n",
              "      <td>36.2</td>\n",
              "    </tr>\n",
              "  </tbody>\n",
              "</table>\n",
              "</div>"
            ],
            "text/plain": [
              "      crim    zn  indus  chas    nox  ...  tax  ptratio       b  lstat  medv\n",
              "0  0.00632  18.0   2.31     0  0.538  ...  296     15.3  396.90   4.98  24.0\n",
              "1  0.02731   0.0   7.07     0  0.469  ...  242     17.8  396.90   9.14  21.6\n",
              "2  0.02729   0.0   7.07     0  0.469  ...  242     17.8  392.83   4.03  34.7\n",
              "3  0.03237   0.0   2.18     0  0.458  ...  222     18.7  394.63   2.94  33.4\n",
              "4  0.06905   0.0   2.18     0  0.458  ...  222     18.7  396.90   5.33  36.2\n",
              "\n",
              "[5 rows x 14 columns]"
            ]
          },
          "metadata": {
            "tags": []
          },
          "execution_count": 4
        }
      ]
    },
    {
      "cell_type": "code",
      "metadata": {
        "colab": {
          "base_uri": "https://localhost:8080/"
        },
        "id": "RTNY6BhYxFLo",
        "outputId": "46e138f6-8a9e-42d3-eb9d-f368aa72e01c"
      },
      "source": [
        "독립=보스턴[['crim','zn','indus','chas','nox','rm','age','dis','rad','tax','ptratio','b','lstat']]\n",
        "종속=보스턴[['medv']]\n",
        "print(독립.shape,종속.shape)"
      ],
      "execution_count": 5,
      "outputs": [
        {
          "output_type": "stream",
          "text": [
            "(506, 13) (506, 1)\n"
          ],
          "name": "stdout"
        }
      ]
    },
    {
      "cell_type": "markdown",
      "metadata": {
        "id": "ub6_P2lgws3Y"
      },
      "source": [
        "# 2.모델의 구조를 만듭니다"
      ]
    },
    {
      "cell_type": "code",
      "metadata": {
        "id": "yASGxI05xgQd"
      },
      "source": [
        "import tensorflow as tf"
      ],
      "execution_count": 6,
      "outputs": []
    },
    {
      "cell_type": "code",
      "metadata": {
        "id": "l7AptXI3xmbv"
      },
      "source": [
        "X=tf.keras.layers.Input(shape=[13])\n",
        "Y=tf.keras.layers.Dense(1)(X)\n",
        "model=tf.keras.models.Model(X,Y)\n",
        "model.compile(loss='mse')"
      ],
      "execution_count": 7,
      "outputs": []
    },
    {
      "cell_type": "markdown",
      "metadata": {
        "id": "ZiAD4EDLyqf1"
      },
      "source": [
        "독립변수는 13개고 종속변수는 1개이므로 X는 shape가 13,Y는 Dense가 1이다."
      ]
    },
    {
      "cell_type": "markdown",
      "metadata": {
        "id": "1m55pzzJxrkJ"
      },
      "source": [
        "# 3.데이터로 모델을 학습(FIT)합니다."
      ]
    },
    {
      "cell_type": "code",
      "metadata": {
        "colab": {
          "base_uri": "https://localhost:8080/"
        },
        "id": "j91d4X2oxvlq",
        "outputId": "ab728c57-1441-4a09-aa00-52310294e8ff"
      },
      "source": [
        "model.fit(독립,종속,epochs=10)"
      ],
      "execution_count": 8,
      "outputs": [
        {
          "output_type": "stream",
          "text": [
            "Epoch 1/10\n",
            "16/16 [==============================] - 1s 1ms/step - loss: 8132.8564\n",
            "Epoch 2/10\n",
            "16/16 [==============================] - 0s 1ms/step - loss: 7309.1064\n",
            "Epoch 3/10\n",
            "16/16 [==============================] - 0s 975us/step - loss: 6671.7939\n",
            "Epoch 4/10\n",
            "16/16 [==============================] - 0s 1ms/step - loss: 6118.7119\n",
            "Epoch 5/10\n",
            "16/16 [==============================] - 0s 945us/step - loss: 5593.9512\n",
            "Epoch 6/10\n",
            "16/16 [==============================] - 0s 1ms/step - loss: 5102.9902\n",
            "Epoch 7/10\n",
            "16/16 [==============================] - 0s 1ms/step - loss: 4644.5283\n",
            "Epoch 8/10\n",
            "16/16 [==============================] - 0s 983us/step - loss: 4207.8320\n",
            "Epoch 9/10\n",
            "16/16 [==============================] - 0s 1ms/step - loss: 3816.3564\n",
            "Epoch 10/10\n",
            "16/16 [==============================] - 0s 1ms/step - loss: 3444.3718\n"
          ],
          "name": "stdout"
        },
        {
          "output_type": "execute_result",
          "data": {
            "text/plain": [
              "<tensorflow.python.keras.callbacks.History at 0x7f11842e4850>"
            ]
          },
          "metadata": {
            "tags": []
          },
          "execution_count": 8
        }
      ]
    },
    {
      "cell_type": "code",
      "metadata": {
        "colab": {
          "base_uri": "https://localhost:8080/"
        },
        "id": "OcfNUB-Py-f7",
        "outputId": "78bbb7fe-f0ca-453d-b078-1e9162de2c23"
      },
      "source": [
        "model.fit(독립,종속,epochs=1000, verbose=0)"
      ],
      "execution_count": 11,
      "outputs": [
        {
          "output_type": "execute_result",
          "data": {
            "text/plain": [
              "<tensorflow.python.keras.callbacks.History at 0x7f1173eb9d90>"
            ]
          },
          "metadata": {
            "tags": []
          },
          "execution_count": 11
        }
      ]
    },
    {
      "cell_type": "markdown",
      "metadata": {
        "id": "IyGZaLB8zJbz"
      },
      "source": [
        "verbose=0은 결과값을 보지 않겠다는 의미이다."
      ]
    },
    {
      "cell_type": "markdown",
      "metadata": {
        "id": "r7wTjbWtx2Gl"
      },
      "source": [
        "# 4.모델을 이용합니다."
      ]
    },
    {
      "cell_type": "code",
      "metadata": {
        "colab": {
          "base_uri": "https://localhost:8080/"
        },
        "id": "RqqD_-rXx6TQ",
        "outputId": "1b9d9cfe-662b-4799-c26e-39a97deef2a6"
      },
      "source": [
        "print(\"Predictions: \",model.predict(독립[0:5]))"
      ],
      "execution_count": 12,
      "outputs": [
        {
          "output_type": "stream",
          "text": [
            "Predictions:  [[29.714752]\n",
            " [25.19456 ]\n",
            " [30.614456]\n",
            " [30.023575]\n",
            " [29.338787]]\n"
          ],
          "name": "stdout"
        }
      ]
    },
    {
      "cell_type": "markdown",
      "metadata": {
        "id": "7oqeOVYJ6gYA"
      },
      "source": [
        "1행부터 6행까지의 medv의 값을 추측해보았다."
      ]
    },
    {
      "cell_type": "code",
      "metadata": {
        "colab": {
          "base_uri": "https://localhost:8080/",
          "height": 204
        },
        "id": "UkPbXZXqzWqA",
        "outputId": "6abf467f-d6c3-4200-f267-eafbabd65291"
      },
      "source": [
        "종속[0:5]"
      ],
      "execution_count": 13,
      "outputs": [
        {
          "output_type": "execute_result",
          "data": {
            "text/html": [
              "<div>\n",
              "<style scoped>\n",
              "    .dataframe tbody tr th:only-of-type {\n",
              "        vertical-align: middle;\n",
              "    }\n",
              "\n",
              "    .dataframe tbody tr th {\n",
              "        vertical-align: top;\n",
              "    }\n",
              "\n",
              "    .dataframe thead th {\n",
              "        text-align: right;\n",
              "    }\n",
              "</style>\n",
              "<table border=\"1\" class=\"dataframe\">\n",
              "  <thead>\n",
              "    <tr style=\"text-align: right;\">\n",
              "      <th></th>\n",
              "      <th>medv</th>\n",
              "    </tr>\n",
              "  </thead>\n",
              "  <tbody>\n",
              "    <tr>\n",
              "      <th>0</th>\n",
              "      <td>24.0</td>\n",
              "    </tr>\n",
              "    <tr>\n",
              "      <th>1</th>\n",
              "      <td>21.6</td>\n",
              "    </tr>\n",
              "    <tr>\n",
              "      <th>2</th>\n",
              "      <td>34.7</td>\n",
              "    </tr>\n",
              "    <tr>\n",
              "      <th>3</th>\n",
              "      <td>33.4</td>\n",
              "    </tr>\n",
              "    <tr>\n",
              "      <th>4</th>\n",
              "      <td>36.2</td>\n",
              "    </tr>\n",
              "  </tbody>\n",
              "</table>\n",
              "</div>"
            ],
            "text/plain": [
              "   medv\n",
              "0  24.0\n",
              "1  21.6\n",
              "2  34.7\n",
              "3  33.4\n",
              "4  36.2"
            ]
          },
          "metadata": {
            "tags": []
          },
          "execution_count": 13
        }
      ]
    },
    {
      "cell_type": "markdown",
      "metadata": {
        "id": "PJ7-bN_76mYX"
      },
      "source": [
        "실제 1행부터 6행까지의 medv의 값이다. 차이가 존재함을 알 수 있다."
      ]
    },
    {
      "cell_type": "markdown",
      "metadata": {
        "id": "CvnxwEnO6wNZ"
      },
      "source": [
        "# 5.모델의 수식 확인"
      ]
    },
    {
      "cell_type": "code",
      "metadata": {
        "colab": {
          "base_uri": "https://localhost:8080/"
        },
        "id": "U781SCVg6tAK",
        "outputId": "1cbba379-56a2-4497-c2bb-30b9a3d6dfb4"
      },
      "source": [
        "model.get_weights()"
      ],
      "execution_count": 15,
      "outputs": [
        {
          "output_type": "execute_result",
          "data": {
            "text/plain": [
              "[array([[-0.08543278],\n",
              "        [ 0.08007725],\n",
              "        [-0.0618079 ],\n",
              "        [ 3.387237  ],\n",
              "        [ 2.0354414 ],\n",
              "        [ 3.6444511 ],\n",
              "        [ 0.02291095],\n",
              "        [-0.8729906 ],\n",
              "        [ 0.14357069],\n",
              "        [-0.00920379],\n",
              "        [ 0.10579202],\n",
              "        [ 0.01714006],\n",
              "        [-0.6092196 ]], dtype=float32), array([2.6292422], dtype=float32)]"
            ]
          },
          "metadata": {
            "tags": []
          },
          "execution_count": 15
        }
      ]
    },
    {
      "cell_type": "markdown",
      "metadata": {
        "id": "CcW0TZh17B2U"
      },
      "source": [
        "1행은 -0.08543278 이 곱해있고 2행은 0.08007725이 곱해있고... 하는 방식으로 식을 만들 수 있다."
      ]
    }
  ]
}